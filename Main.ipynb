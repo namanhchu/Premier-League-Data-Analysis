{
 "cells": [
  {
   "cell_type": "code",
   "execution_count": 5,
   "metadata": {},
   "outputs": [
    {
     "name": "stdout",
     "output_type": "stream",
     "text": [
      "    Div        Date      HomeTeam        AwayTeam  FTHG  FTAG FTR  HTHG  HTAG  \\\n",
      "0    E0  10/08/2018    Man United       Leicester     2     1   H     1     0   \n",
      "1    E0  11/08/2018   Bournemouth         Cardiff     2     0   H     1     0   \n",
      "2    E0  11/08/2018        Fulham  Crystal Palace     0     2   A     0     1   \n",
      "3    E0  11/08/2018  Huddersfield         Chelsea     0     3   A     0     2   \n",
      "4    E0  11/08/2018     Newcastle       Tottenham     1     2   A     1     2   \n",
      "..   ..         ...           ...             ...   ...   ...  ..   ...   ...   \n",
      "375  E0  12/05/2019     Liverpool          Wolves     2     0   H     1     0   \n",
      "376  E0  12/05/2019    Man United         Cardiff     0     2   A     0     1   \n",
      "377  E0  12/05/2019   Southampton    Huddersfield     1     1   D     1     0   \n",
      "378  E0  12/05/2019     Tottenham         Everton     2     2   D     1     0   \n",
      "379  E0  12/05/2019       Watford        West Ham     1     4   A     0     2   \n",
      "\n",
      "    HTR  ... BbAv<2.5  BbAH  BbAHh  BbMxAHH  BbAvAHH  BbMxAHA  BbAvAHA  PSCH  \\\n",
      "0     H  ...     1.79    17  -0.75     1.75     1.70     2.29     2.21  1.55   \n",
      "1     H  ...     1.83    20  -0.75     2.20     2.13     1.80     1.75  1.88   \n",
      "2     A  ...     1.87    22  -0.25     2.18     2.11     1.81     1.77  2.62   \n",
      "3     A  ...     1.84    23   1.00     1.84     1.80     2.13     2.06  7.24   \n",
      "4     A  ...     1.81    20   0.25     2.20     2.12     1.80     1.76  4.74   \n",
      "..   ..  ...      ...   ...    ...      ...      ...      ...      ...   ...   \n",
      "375   H  ...     2.31    22  -1.50     1.98     1.91     2.01     1.95  1.32   \n",
      "376   A  ...     2.95    21  -2.00     2.52     2.32     1.72     1.64  1.30   \n",
      "377   H  ...     2.29    22  -1.50     2.27     2.16     1.80     1.73  1.37   \n",
      "378   H  ...     2.07    19  -0.50     2.13     2.08     1.85     1.80  1.91   \n",
      "379   A  ...     2.44    19  -0.50     2.25     2.19     1.78     1.72  2.11   \n",
      "\n",
      "     PSCD  PSCA  \n",
      "0    4.07  7.69  \n",
      "1    3.61  4.70  \n",
      "2    3.38  2.90  \n",
      "3    3.95  1.58  \n",
      "4    3.53  1.89  \n",
      "..    ...   ...  \n",
      "375  5.89  9.48  \n",
      "376  6.06  9.71  \n",
      "377  5.36  8.49  \n",
      "378  3.81  4.15  \n",
      "379  3.86  3.41  \n",
      "\n",
      "[380 rows x 62 columns]\n",
      "    Div        Date   Time        HomeTeam          AwayTeam  FTHG  FTAG FTR  \\\n",
      "0    E0  09/08/2019  20:00       Liverpool           Norwich     4     1   H   \n",
      "1    E0  10/08/2019  12:30        West Ham          Man City     0     5   A   \n",
      "2    E0  10/08/2019  15:00     Bournemouth  Sheffield United     1     1   D   \n",
      "3    E0  10/08/2019  15:00         Burnley       Southampton     3     0   H   \n",
      "4    E0  10/08/2019  15:00  Crystal Palace           Everton     0     0   D   \n",
      "..   ..         ...    ...             ...               ...   ...   ...  ..   \n",
      "375  E0  26/07/2020  16:00       Leicester        Man United     0     2   A   \n",
      "376  E0  26/07/2020  16:00        Man City           Norwich     5     0   H   \n",
      "377  E0  26/07/2020  16:00       Newcastle         Liverpool     1     3   A   \n",
      "378  E0  26/07/2020  16:00     Southampton  Sheffield United     3     1   H   \n",
      "379  E0  26/07/2020  16:00        West Ham       Aston Villa     1     1   D   \n",
      "\n",
      "     HTHG  HTAG  ... AvgC<2.5  AHCh  B365CAHH  B365CAHA  PCAHH  PCAHA  \\\n",
      "0       4     0  ...     3.43 -2.25      1.91      1.99   1.94   1.98   \n",
      "1       0     1  ...     2.91  1.75      1.95      1.95   1.96   1.97   \n",
      "2       0     0  ...     1.92 -0.50      1.95      1.95   1.98   1.95   \n",
      "3       0     0  ...     1.71  0.00      1.87      2.03   1.89   2.03   \n",
      "4       0     0  ...     1.71  0.25      1.82      2.08   1.97   1.96   \n",
      "..    ...   ...  ...      ...   ...       ...       ...    ...    ...   \n",
      "375     0     0  ...     2.03  0.50      1.89      2.01   1.88   2.05   \n",
      "376     2     0  ...     5.77 -3.75      2.03      1.87   2.01   1.88   \n",
      "377     1     1  ...     2.40  1.00      1.94      1.96   1.95   1.97   \n",
      "378     0     1  ...     2.01 -0.50      1.97      1.93   2.00   1.93   \n",
      "379     0     0  ...     2.03  0.00      1.93      1.97   1.95   1.98   \n",
      "\n",
      "     MaxCAHH  MaxCAHA  AvgCAHH  AvgCAHA  \n",
      "0       1.99     2.07     1.90     1.99  \n",
      "1       2.07     1.98     1.97     1.92  \n",
      "2       2.00     1.96     1.96     1.92  \n",
      "3       1.90     2.07     1.86     2.02  \n",
      "4       2.03     2.08     1.96     1.93  \n",
      "..       ...      ...      ...      ...  \n",
      "375     1.94     2.05     1.86     2.02  \n",
      "376     2.06     1.88     2.02     1.84  \n",
      "377     2.03     2.00     1.95     1.92  \n",
      "378     2.03     1.96     1.98     1.89  \n",
      "379     1.99     2.00     1.93     1.95  \n",
      "\n",
      "[380 rows x 106 columns]\n"
     ]
    }
   ],
   "source": [
    "import pandas as pd\n",
    "import numpy as np\n",
    "import matplotlib.pyplot as plt\n",
    "from sklearn.linear_model import LogisticRegression\n",
    "from sklearn.model_selection import train_test_split\n",
    "from sklearn import metrics\n",
    "from sklearn.metrics import log_loss\n",
    "from sklearn.metrics import classification_report, confusion_matrix\n",
    "\n",
    "\n",
    "df_football_1819 = pd.read_csv('season-1819_csv.csv')\n",
    "df_football_1920 = pd.read_csv('season-1920.csv')\n",
    "print(df_football_1819)\n",
    "print(df_football_1920) "
   ]
  },
  {
   "cell_type": "code",
   "execution_count": 6,
   "metadata": {},
   "outputs": [
    {
     "name": "stdout",
     "output_type": "stream",
     "text": [
      "         HomeTeam        AwayTeam  FTHG  FTAG FTR  HTHG  HTAG HTR  HS  AS  \\\n",
      "0      Man United       Leicester     2     1   H     1     0   H   8  13   \n",
      "1     Bournemouth         Cardiff     2     0   H     1     0   H  12  10   \n",
      "2          Fulham  Crystal Palace     0     2   A     0     1   A  15  10   \n",
      "3    Huddersfield         Chelsea     0     3   A     0     2   A   6  13   \n",
      "4       Newcastle       Tottenham     1     2   A     1     2   A  15  15   \n",
      "..            ...             ...   ...   ...  ..   ...   ...  ..  ..  ..   \n",
      "375     Liverpool          Wolves     2     0   H     1     0   H  13   7   \n",
      "376    Man United         Cardiff     0     2   A     0     1   A  26  13   \n",
      "377   Southampton    Huddersfield     1     1   D     1     0   H  10  10   \n",
      "378     Tottenham         Everton     2     2   D     1     0   H  11  17   \n",
      "379       Watford        West Ham     1     4   A     0     2   A  17  16   \n",
      "\n",
      "     HST  AST  HC  AC  HR  AR  \n",
      "0      6    4   2   5   0   0  \n",
      "1      4    1   7   4   0   0  \n",
      "2      6    9   5   5   0   0  \n",
      "3      1    4   2   5   0   0  \n",
      "4      2    5   3   5   0   0  \n",
      "..   ...  ...  ..  ..  ..  ..  \n",
      "375    5    2   4   1   0   0  \n",
      "376   10    4  11   2   0   0  \n",
      "377    3    3   4   3   0   0  \n",
      "378    3    9   7   4   0   0  \n",
      "379    8    9   7   2   1   0  \n",
      "\n",
      "[380 rows x 16 columns]\n",
      "           HomeTeam          AwayTeam  FTHG  FTAG FTR  HTHG  HTAG HTR  HS  AS  \\\n",
      "0         Liverpool           Norwich     4     1   H     4     0   H  15  12   \n",
      "1          West Ham          Man City     0     5   A     0     1   A   5  14   \n",
      "2       Bournemouth  Sheffield United     1     1   D     0     0   D  13   8   \n",
      "3           Burnley       Southampton     3     0   H     0     0   D  10  11   \n",
      "4    Crystal Palace           Everton     0     0   D     0     0   D   6  10   \n",
      "..              ...               ...   ...   ...  ..   ...   ...  ..  ..  ..   \n",
      "375       Leicester        Man United     0     2   A     0     0   D  14   7   \n",
      "376        Man City           Norwich     5     0   H     2     0   H  31   5   \n",
      "377       Newcastle         Liverpool     1     3   A     1     1   D   3  14   \n",
      "378     Southampton  Sheffield United     3     1   H     0     1   A  13   5   \n",
      "379        West Ham       Aston Villa     1     1   D     0     0   D  10  13   \n",
      "\n",
      "     HST  AST  HC  AC  HR  AR  \n",
      "0      7    5  11   2   0   0  \n",
      "1      3    9   1   1   0   0  \n",
      "2      3    3   3   4   0   0  \n",
      "3      4    3   2   7   0   0  \n",
      "4      2    3   6   2   0   1  \n",
      "..   ...  ...  ..  ..  ..  ..  \n",
      "375    3    3   3   3   1   0  \n",
      "376   10    4   9   0   0   0  \n",
      "377    2    6   2   4   0   0  \n",
      "378    4    3   9   1   0   0  \n",
      "379    1    4   0   7   0   0  \n",
      "\n",
      "[380 rows x 16 columns]\n"
     ]
    }
   ],
   "source": [
    "df_football_1819 = df_football_1819.filter(items = ['HomeTeam', 'AwayTeam', 'FTHG', 'FTAG', 'FTR', 'HTHG', 'HTAG', 'HTR', 'HS', 'AS', 'HST', 'AST', 'HC', 'AC', 'HR', 'AR'])\n",
    "df_football_1920 = df_football_1920.filter(items = ['HomeTeam', 'AwayTeam', 'FTHG', 'FTAG', 'FTR', 'HTHG', 'HTAG', 'HTR', 'HS', 'AS', 'HST', 'AST', 'HC', 'AC', 'HR', 'AR'])\n",
    "print(df_football_1819)\n",
    "print(df_football_1920)"
   ]
  },
  {
   "cell_type": "code",
   "execution_count": 7,
   "metadata": {},
   "outputs": [
    {
     "name": "stdout",
     "output_type": "stream",
     "text": [
      "0         Man United\n",
      "1        Bournemouth\n",
      "2             Fulham\n",
      "3       Huddersfield\n",
      "4          Newcastle\n",
      "5            Watford\n",
      "6             Wolves\n",
      "7            Arsenal\n",
      "8          Liverpool\n",
      "9        Southampton\n",
      "10           Cardiff\n",
      "11           Chelsea\n",
      "12           Everton\n",
      "13         Leicester\n",
      "14         Tottenham\n",
      "15          West Ham\n",
      "16          Brighton\n",
      "17           Burnley\n",
      "18          Man City\n",
      "19    Crystal Palace\n",
      "Name: HomeTeam, dtype: object\n",
      "['Man United' 'Bournemouth' 'Fulham' 'Huddersfield' 'Newcastle' 'Watford'\n",
      " 'Wolves' 'Arsenal' 'Liverpool' 'Southampton' 'Cardiff' 'Chelsea'\n",
      " 'Everton' 'Leicester' 'Tottenham' 'West Ham' 'Brighton' 'Burnley'\n",
      " 'Man City' 'Crystal Palace']\n"
     ]
    }
   ],
   "source": [
    "team_names = df_football_1819.drop_duplicates(subset = ['HomeTeam'])['HomeTeam']\n",
    "print(team_names)\n",
    "\n",
    "team_names = np.array(team_names)\n",
    "\n",
    "print(team_names)"
   ]
  },
  {
   "cell_type": "code",
   "execution_count": 8,
   "metadata": {},
   "outputs": [],
   "source": [
    "## for row in df_football_1819.itertuples():\n",
    "   ## print(row.HomeTeam)\n",
    "    "
   ]
  },
  {
   "cell_type": "code",
   "execution_count": 9,
   "metadata": {},
   "outputs": [],
   "source": [
    "df_football_1819_ManU_home = df_football_1819.loc[(df_football_1819.HomeTeam == \"Man United\")]\n",
    "df_football_1819_ManU_away = df_football_1819.loc[(df_football_1819.AwayTeam == \"Man United\")]\n",
    "\n",
    "df_football_1819_Bour_home = df_football_1819.loc[(df_football_1819.HomeTeam == \"Bournemouth\")]\n",
    "df_football_1819_Bour_away = df_football_1819.loc[(df_football_1819.AwayTeam == \"Bournemouth\")]\n",
    "\n",
    "df_football_1819_Ful_home = df_football_1819.loc[(df_football_1819.HomeTeam == \"Fulham\")]\n",
    "df_football_1819_Ful_away = df_football_1819.loc[(df_football_1819.AwayTeam == \"Fulham\")]\n",
    "\n",
    "df_football_1819_Hud_home = df_football_1819.loc[(df_football_1819.HomeTeam == \"Huddersfield\")]\n",
    "df_football_1819_Hud_away = df_football_1819.loc[(df_football_1819.AwayTeam == \"Huddersfield\")]\n",
    "\n",
    "df_football_1819_New_home = df_football_1819.loc[(df_football_1819.HomeTeam == \"Newcastle\")]\n",
    "df_football_1819_New_away = df_football_1819.loc[(df_football_1819.AwayTeam == \"Newcastle\")]\n",
    "\n",
    "df_football_1819_Wat_home = df_football_1819.loc[(df_football_1819.HomeTeam == \"Watford\")]\n",
    "df_football_1819_Wat_away = df_football_1819.loc[(df_football_1819.AwayTeam == \"Watford\")]\n",
    "\n",
    "df_football_1819_Wol_home = df_football_1819.loc[(df_football_1819.HomeTeam == \"Wolves\")]\n",
    "df_football_1819_Wol_away = df_football_1819.loc[(df_football_1819.AwayTeam == \"Wolves\")]\n",
    "\n",
    "df_football_1819_Ars_home = df_football_1819.loc[(df_football_1819.HomeTeam == \"Arsenal\")]\n",
    "df_football_1819_Ars_away = df_football_1819.loc[(df_football_1819.AwayTeam == \"Arsenal\")]\n",
    "\n",
    "df_football_1819_Liv_home = df_football_1819.loc[(df_football_1819.HomeTeam == \"Liverpool\")]\n",
    "df_football_1819_Liv_away = df_football_1819.loc[(df_football_1819.AwayTeam == \"Liverpool\")]\n",
    "\n",
    "df_football_1819_Sou_home = df_football_1819.loc[(df_football_1819.HomeTeam == \"Southampton\")]\n",
    "df_football_1819_Sou_away = df_football_1819.loc[(df_football_1819.AwayTeam == \"Southampton\")]\n",
    "\n",
    "df_football_1819_Car_home = df_football_1819.loc[(df_football_1819.HomeTeam == \"Cardiff\")]\n",
    "df_football_1819_Car_away = df_football_1819.loc[(df_football_1819.AwayTeam == \"Cardiff\")]\n",
    "\n",
    "df_football_1819_Che_home = df_football_1819.loc[(df_football_1819.HomeTeam == \"Chelsea\")]\n",
    "df_football_1819_Che_away = df_football_1819.loc[(df_football_1819.AwayTeam == \"Chelsea\")]\n",
    "\n",
    "df_football_1819_Eve_home = df_football_1819.loc[(df_football_1819.HomeTeam == \"Everton\")]\n",
    "df_football_1819_Eve_away = df_football_1819.loc[(df_football_1819.AwayTeam == \"Everton\")]\n",
    "\n",
    "df_football_1819_Lei_home = df_football_1819.loc[(df_football_1819.HomeTeam == \"Leicester\")]\n",
    "df_football_1819_Lei_away = df_football_1819.loc[(df_football_1819.AwayTeam == \"Leicester\")]\n",
    "\n",
    "df_football_1819_Tot_home = df_football_1819.loc[(df_football_1819.HomeTeam == \"Tottenham\")]\n",
    "df_football_1819_Tot_away = df_football_1819.loc[(df_football_1819.AwayTeam == \"Tottenham\")]\n",
    "\n",
    "df_football_1819_WHam_home = df_football_1819.loc[(df_football_1819.HomeTeam == \"West Ham\")]\n",
    "df_football_1819_WHam_away = df_football_1819.loc[(df_football_1819.AwayTeam == \"West Ham\")]\n",
    "\n",
    "df_football_1819_Bton_home = df_football_1819.loc[(df_football_1819.HomeTeam == \"Brighton\")]\n",
    "df_football_1819_Bton_away = df_football_1819.loc[(df_football_1819.AwayTeam == \"Brighton\")]\n",
    "\n",
    "df_football_1819_Bley_home = df_football_1819.loc[(df_football_1819.HomeTeam == \"Burnley\")]\n",
    "df_football_1819_Bley_away = df_football_1819.loc[(df_football_1819.AwayTeam == \"Burnley\")]\n",
    "\n",
    "df_football_1819_ManC_home = df_football_1819.loc[(df_football_1819.HomeTeam == \"Man City\")]\n",
    "df_football_1819_ManC_away = df_football_1819.loc[(df_football_1819.AwayTeam == \"Man City\")]\n",
    "\n",
    "df_football_1819_CP_home = df_football_1819.loc[(df_football_1819.HomeTeam == \"Crystal Palace\")]\n",
    "df_football_1819_CP_away = df_football_1819.loc[(df_football_1819.AwayTeam == \"Crystal Palace\")]"
   ]
  },
  {
   "cell_type": "code",
   "execution_count": 10,
   "metadata": {},
   "outputs": [],
   "source": [
    "df_football_1920_ManU_home = df_football_1920.loc[(df_football_1920.HomeTeam == \"Man United\")]\n",
    "df_football_1920_ManU_away = df_football_1819.loc[(df_football_1920.AwayTeam == \"Man United\")]\n",
    "\n",
    "df_football_1920_Bour_home = df_football_1819.loc[(df_football_1920.HomeTeam == \"Bournemouth\")]\n",
    "df_football_1819_Bour_away = df_football_1819.loc[(df_football_1819.AwayTeam == \"Bournemouth\")]\n",
    "\n",
    "df_football_1819_Ful_home = df_football_1819.loc[(df_football_1819.HomeTeam == \"Fulham\")]\n",
    "df_football_1819_Ful_away = df_football_1819.loc[(df_football_1819.AwayTeam == \"Fulham\")]\n",
    "\n",
    "df_football_1819_Hud_home = df_football_1819.loc[(df_football_1819.HomeTeam == \"Huddersfield\")]\n",
    "df_football_1819_Hud_away = df_football_1819.loc[(df_football_1819.AwayTeam == \"Huddersfield\")]\n",
    "\n",
    "df_football_1819_New_home = df_football_1819.loc[(df_football_1819.HomeTeam == \"Newcastle\")]\n",
    "df_football_1819_New_away = df_football_1819.loc[(df_football_1819.AwayTeam == \"Newcastle\")]\n",
    "\n",
    "df_football_1819_Wat_home = df_football_1819.loc[(df_football_1819.HomeTeam == \"Watford\")]\n",
    "df_football_1819_Wat_away = df_football_1819.loc[(df_football_1819.AwayTeam == \"Watford\")]\n",
    "\n",
    "df_football_1819_Wol_home = df_football_1819.loc[(df_football_1819.HomeTeam == \"Wolves\")]\n",
    "df_football_1819_Wol_away = df_football_1819.loc[(df_football_1819.AwayTeam == \"Wolves\")]\n",
    "\n",
    "df_football_1819_Ars_home = df_football_1819.loc[(df_football_1819.HomeTeam == \"Arsenal\")]\n",
    "df_football_1819_Ars_away = df_football_1819.loc[(df_football_1819.AwayTeam == \"Arsenal\")]\n",
    "\n",
    "df_football_1819_Liv_home = df_football_1819.loc[(df_football_1819.HomeTeam == \"Liverpool\")]\n",
    "df_football_1819_Liv_away = df_football_1819.loc[(df_football_1819.AwayTeam == \"Liverpool\")]\n",
    "\n",
    "df_football_1819_Sou_home = df_football_1819.loc[(df_football_1819.HomeTeam == \"Southampton\")]\n",
    "df_football_1819_Sou_away = df_football_1819.loc[(df_football_1819.AwayTeam == \"Southampton\")]\n",
    "\n",
    "df_football_1819_Car_home = df_football_1819.loc[(df_football_1819.HomeTeam == \"Cardiff\")]\n",
    "df_football_1819_Car_away = df_football_1819.loc[(df_football_1819.AwayTeam == \"Cardiff\")]\n",
    "\n",
    "df_football_1819_Che_home = df_football_1819.loc[(df_football_1819.HomeTeam == \"Chelsea\")]\n",
    "df_football_1819_Che_away = df_football_1819.loc[(df_football_1819.AwayTeam == \"Chelsea\")]\n",
    "\n",
    "df_football_1819_Eve_home = df_football_1819.loc[(df_football_1819.HomeTeam == \"Everton\")]\n",
    "df_football_1819_Eve_away = df_football_1819.loc[(df_football_1819.AwayTeam == \"Everton\")]\n",
    "\n",
    "df_football_1819_Lei_home = df_football_1819.loc[(df_football_1819.HomeTeam == \"Leicester\")]\n",
    "df_football_1819_Lei_away = df_football_1819.loc[(df_football_1819.AwayTeam == \"Leicester\")]\n",
    "\n",
    "df_football_1819_Tot_home = df_football_1819.loc[(df_football_1819.HomeTeam == \"Tottenham\")]\n",
    "df_football_1819_Tot_away = df_football_1819.loc[(df_football_1819.AwayTeam == \"Tottenham\")]\n",
    "\n",
    "df_football_1819_WHam_home = df_football_1819.loc[(df_football_1819.HomeTeam == \"West Ham\")]\n",
    "df_football_1819_WHam_away = df_football_1819.loc[(df_football_1819.AwayTeam == \"West Ham\")]\n",
    "\n",
    "df_football_1819_Bton_home = df_football_1819.loc[(df_football_1819.HomeTeam == \"Brighton\")]\n",
    "df_football_1819_Bton_away = df_football_1819.loc[(df_football_1819.AwayTeam == \"Brighton\")]\n",
    "\n",
    "df_football_1819_Bley_home = df_football_1819.loc[(df_football_1819.HomeTeam == \"Burnley\")]\n",
    "df_football_1819_Bley_away = df_football_1819.loc[(df_football_1819.AwayTeam == \"Burnley\")]\n",
    "\n",
    "df_football_1819_ManC_home = df_football_1819.loc[(df_football_1819.HomeTeam == \"Man City\")]\n",
    "df_football_1819_ManC_away = df_football_1819.loc[(df_football_1819.AwayTeam == \"Man City\")]\n",
    "\n",
    "df_football_1819_CP_home = df_football_1819.loc[(df_football_1819.HomeTeam == \"Crystal Palace\")]\n",
    "df_football_1819_CP_away = df_football_1819.loc[(df_football_1819.AwayTeam == \"Crystal Palace\")]"
   ]
  },
  {
   "cell_type": "code",
   "execution_count": 11,
   "metadata": {},
   "outputs": [
    {
     "name": "stdout",
     "output_type": "stream",
     "text": [
      "['H' 'A' 'D' 'H' 'H' 'D' 'D' 'H' 'H' 'H' 'H' 'D' 'D' 'H' 'H' 'H' 'A' 'D'\n",
      " 'A']\n",
      "['H' 'A' 'A' 'H' 'D' 'A' 'H' 'D' 'H' 'A' 'A' 'A' 'A' 'A' 'A' 'H' 'H' 'H'\n",
      " 'D']\n",
      "[1, -1, 0, 1, 1, 0, 0, 1, 1, 1, 1, 0, 0, 1, 1, 1, -1, 0, -1, -1, 1, 1, -1, 0, 1, -1, 0, -1, 1, 1, 1, 1, 1, 1, -1, -1, -1, 0]\n"
     ]
    }
   ],
   "source": [
    "xManUH1819 = np.array(df_football_1819_ManU_home['FTR'])\n",
    "xManUA1819 = np.array(df_football_1819_ManU_away['FTR'])\n",
    "\n",
    "yManU1819 = []\n",
    "\n",
    "for i in xManUH1819:\n",
    "    if i == 'H':\n",
    "        yManU1819.append(1)\n",
    "    elif i == 'A': \n",
    "        yManU1819.append(-1)\n",
    "    elif i == 'D':\n",
    "        yManU1819.append(0)\n",
    "\n",
    "        \n",
    "for i in xManUA1819:\n",
    "    if i == 'H':\n",
    "        yManU1819.append(-1)\n",
    "    elif i == 'A': \n",
    "        yManU1819.append(1)\n",
    "    elif i == 'D':\n",
    "        yManU1819.append(0)\n",
    "        \n",
    "print(xManUH1819)\n",
    "print(xManUA1819)\n",
    "print(yManU1819)"
   ]
  },
  {
   "cell_type": "code",
   "execution_count": 12,
   "metadata": {},
   "outputs": [
    {
     "name": "stdout",
     "output_type": "stream",
     "text": [
      "['H' 'D' 'H' 'H' 'D' 'A' 'A' 'H' 'A' 'H' 'D' 'H' 'H' 'D' 'A' 'D' 'A' 'A'\n",
      " 'H']\n",
      "['A' 'H' 'H' 'A' 'A' 'H' 'H' 'H' 'H' 'H' 'H' 'H' 'H' 'H' 'A' 'H' 'A' 'D'\n",
      " 'H']\n",
      "[1, 0, 1, 1, 0, -1, -1, 1, -1, 1, 0, 1, 1, 0, -1, 0, -1, -1, 1, 1, -1, -1, 1, 1, -1, -1, -1, -1, -1, -1, -1, -1, -1, 1, -1, 1, 0, -1]\n"
     ]
    }
   ],
   "source": [
    "xBourH1819 = np.array(df_football_1819_Bour_home['FTR'])\n",
    "xBourA1819 = np.array(df_football_1819_Bour_away['FTR'])\n",
    "\n",
    "yBour1819 = []\n",
    "\n",
    "for i in xBourH1819:\n",
    "    if i == 'H':\n",
    "        yBour1819.append(1)\n",
    "    elif i == 'A': \n",
    "        yBour1819.append(-1)\n",
    "    elif i == 'D':\n",
    "        yBour1819.append(0)\n",
    "\n",
    "        \n",
    "for i in xBourA1819:\n",
    "    if i == 'H':\n",
    "        yBour1819.append(-1)\n",
    "    elif i == 'A': \n",
    "        yBour1819.append(1)\n",
    "    elif i == 'D':\n",
    "        yBour1819.append(0)\n",
    "        \n",
    "print(xBourH1819)\n",
    "print(xBourA1819)\n",
    "print(yBour1819)"
   ]
  },
  {
   "cell_type": "code",
   "execution_count": 13,
   "metadata": {},
   "outputs": [
    {
     "name": "stdout",
     "output_type": "stream",
     "text": [
      "['A' 'H' 'D' 'A' 'A' 'H' 'D' 'A' 'D' 'H' 'A' 'H' 'A' 'A' 'A' 'A' 'H' 'H'\n",
      " 'A']\n",
      "['H' 'D' 'H' 'H' 'H' 'H' 'H' 'H' 'H' 'D' 'H' 'H' 'H' 'H' 'H' 'H' 'H' 'A'\n",
      " 'H']\n",
      "[-1, 1, 0, -1, -1, 1, 0, -1, 0, 1, -1, 1, -1, -1, -1, -1, 1, 1, -1, -1, 0, -1, -1, -1, -1, -1, -1, -1, 0, -1, -1, -1, -1, -1, -1, -1, 1, -1]\n"
     ]
    }
   ],
   "source": [
    "xFulH1819 = np.array(df_football_1819_Ful_home['FTR'])\n",
    "xFulA1819 = np.array(df_football_1819_Ful_away['FTR'])\n",
    "\n",
    "yFul1819 = []\n",
    "\n",
    "for i in xFulH1819:\n",
    "    if i == 'H':\n",
    "        yFul1819.append(1)\n",
    "    elif i == 'A': \n",
    "        yFul1819.append(-1)\n",
    "    elif i == 'D':\n",
    "        yFul1819.append(0)\n",
    "\n",
    "        \n",
    "for i in xFulA1819:\n",
    "    if i == 'H':\n",
    "        yFul1819.append(-1)\n",
    "    elif i == 'A': \n",
    "        yFul1819.append(1)\n",
    "    elif i == 'D':\n",
    "        yFul1819.append(0)\n",
    "        \n",
    "print(xFulH1819)\n",
    "print(xFulA1819)\n",
    "print(yFul1819)"
   ]
  },
  {
   "cell_type": "code",
   "execution_count": 14,
   "metadata": {},
   "outputs": [
    {
     "name": "stdout",
     "output_type": "stream",
     "text": [
      "['A' 'D' 'A' 'A' 'A' 'H' 'D' 'A' 'A' 'A' 'A' 'A' 'A' 'A' 'H' 'A' 'A' 'A'\n",
      " 'D']\n",
      "['H' 'D' 'H' 'D' 'H' 'A' 'H' 'H' 'H' 'H' 'D' 'H' 'H' 'H' 'H' 'H' 'H' 'H'\n",
      " 'D']\n",
      "[-1, 0, -1, -1, -1, 1, 0, -1, -1, -1, -1, -1, -1, -1, 1, -1, -1, -1, 0, -1, 0, -1, 0, -1, 1, -1, -1, -1, -1, 0, -1, -1, -1, -1, -1, -1, -1, 0]\n"
     ]
    }
   ],
   "source": [
    "xHudH1819 = np.array(df_football_1819_Hud_home['FTR'])\n",
    "xHudA1819 = np.array(df_football_1819_Hud_away['FTR'])\n",
    "\n",
    "yHud1819 = []\n",
    "\n",
    "for i in xHudH1819:\n",
    "    if i == 'H':\n",
    "        yHud1819.append(1)\n",
    "    elif i == 'A': \n",
    "        yHud1819.append(-1)\n",
    "    elif i == 'D':\n",
    "        yHud1819.append(0)\n",
    "\n",
    "        \n",
    "for i in xHudA1819:\n",
    "    if i == 'H':\n",
    "        yHud1819.append(-1)\n",
    "    elif i == 'A': \n",
    "        yHud1819.append(1)\n",
    "    elif i == 'D':\n",
    "        yHud1819.append(0)\n",
    "        \n",
    "print(xHudH1819)\n",
    "print(xHudA1819)\n",
    "print(yHud1819)"
   ]
  },
  {
   "cell_type": "code",
   "execution_count": 15,
   "metadata": {},
   "outputs": [
    {
     "name": "stdout",
     "output_type": "stream",
     "text": [
      "['A' 'A' 'A' 'A' 'A' 'H' 'H' 'A' 'A' 'D' 'A' 'H' 'H' 'H' 'H' 'H' 'A' 'H'\n",
      " 'A']\n",
      "['D' 'H' 'D' 'H' 'D' 'A' 'D' 'A' 'H' 'D' 'H' 'H' 'D' 'H' 'D' 'H' 'A' 'D'\n",
      " 'A']\n",
      "[-1, -1, -1, -1, -1, 1, 1, -1, -1, 0, -1, 1, 1, 1, 1, 1, -1, 1, -1, 0, -1, 0, -1, 0, 1, 0, 1, -1, 0, -1, -1, 0, -1, 0, -1, 1, 0, 1]\n"
     ]
    }
   ],
   "source": [
    "xNewH1819 = np.array(df_football_1819_New_home['FTR'])\n",
    "xNewA1819 = np.array(df_football_1819_New_away['FTR'])\n",
    "\n",
    "yNew1819 = []\n",
    "\n",
    "for i in xNewH1819:\n",
    "    if i == 'H':\n",
    "        yNew1819.append(1)\n",
    "    elif i == 'A': \n",
    "        yNew1819.append(-1)\n",
    "    elif i == 'D':\n",
    "        yNew1819.append(0)\n",
    "\n",
    "        \n",
    "for i in xNewA1819:\n",
    "    if i == 'H':\n",
    "        yNew1819.append(-1)\n",
    "    elif i == 'A': \n",
    "        yNew1819.append(1)\n",
    "    elif i == 'D':\n",
    "        yNew1819.append(0)\n",
    "        \n",
    "print(xNewH1819)\n",
    "print(xNewA1819)\n",
    "print(yNew1819)"
   ]
  },
  {
   "cell_type": "code",
   "execution_count": 16,
   "metadata": {},
   "outputs": [
    {
     "name": "stdout",
     "output_type": "stream",
     "text": [
      "['H' 'H' 'H' 'A' 'A' 'H' 'A' 'A' 'H' 'A' 'D' 'D' 'H' 'H' 'H' 'A' 'D' 'A'\n",
      " 'A']\n",
      "['A' 'D' 'H' 'A' 'H' 'D' 'H' 'D' 'A' 'D' 'A' 'H' 'D' 'A' 'H' 'H' 'H' 'A'\n",
      " 'H']\n",
      "[1, 1, 1, -1, -1, 1, -1, -1, 1, -1, 0, 0, 1, 1, 1, -1, 0, -1, -1, 1, 0, -1, 1, -1, 0, -1, 0, 1, 0, 1, -1, 0, 1, -1, -1, -1, 1, -1]\n"
     ]
    }
   ],
   "source": [
    "xWatH1819 = np.array(df_football_1819_Wat_home['FTR'])\n",
    "xWatA1819 = np.array(df_football_1819_Wat_away['FTR'])\n",
    "\n",
    "yWat1819 = []\n",
    "\n",
    "for i in xWatH1819:\n",
    "    if i == 'H':\n",
    "        yWat1819.append(1)\n",
    "    elif i == 'A': \n",
    "        yWat1819.append(-1)\n",
    "    elif i == 'D':\n",
    "        yWat1819.append(0)\n",
    "\n",
    "        \n",
    "for i in xWatA1819:\n",
    "    if i == 'H':\n",
    "        yWat1819.append(-1)\n",
    "    elif i == 'A': \n",
    "        yWat1819.append(1)\n",
    "    elif i == 'D':\n",
    "        yWat1819.append(0)\n",
    "        \n",
    "print(xWatH1819)\n",
    "print(xWatA1819)\n",
    "print(yWat1819)"
   ]
  },
  {
   "cell_type": "code",
   "execution_count": 17,
   "metadata": {},
   "outputs": [
    {
     "name": "stdout",
     "output_type": "stream",
     "text": [
      "['D' 'D' 'H' 'H' 'A' 'A' 'A' 'H' 'H' 'A' 'A' 'H' 'H' 'D' 'H' 'H' 'D' 'H'\n",
      " 'H']\n",
      "['H' 'A' 'D' 'A' 'H' 'D' 'H' 'A' 'D' 'A' 'H' 'A' 'D' 'H' 'D' 'H' 'H' 'A'\n",
      " 'H']\n",
      "[0, 0, 1, 1, -1, -1, -1, 1, 1, -1, -1, 1, 1, 0, 1, 1, 0, 1, 1, -1, 1, 0, 1, -1, 0, -1, 1, 0, 1, -1, 1, 0, -1, 0, -1, -1, 1, -1]\n"
     ]
    }
   ],
   "source": [
    "xWolH1819 = np.array(df_football_1819_Wol_home['FTR'])\n",
    "xWolA1819 = np.array(df_football_1819_Wol_away['FTR'])\n",
    "\n",
    "yWol1819 = []\n",
    "\n",
    "for i in xWolH1819:\n",
    "    if i == 'H':\n",
    "        yWol1819.append(1)\n",
    "    elif i == 'A': \n",
    "        yWol1819.append(-1)\n",
    "    elif i == 'D':\n",
    "        yWol1819.append(0)\n",
    "\n",
    "        \n",
    "for i in xWolA1819:\n",
    "    if i == 'H':\n",
    "        yWol1819.append(-1)\n",
    "    elif i == 'A': \n",
    "        yWol1819.append(1)\n",
    "    elif i == 'D':\n",
    "        yWol1819.append(0)\n",
    "        \n",
    "print(xWolH1819)\n",
    "print(xWolA1819)\n",
    "print(yWol1819)"
   ]
  },
  {
   "cell_type": "code",
   "execution_count": 18,
   "metadata": {},
   "outputs": [
    {
     "name": "stdout",
     "output_type": "stream",
     "text": [
      "['A' 'H' 'H' 'H' 'H' 'D' 'D' 'H' 'H' 'H' 'H' 'H' 'H' 'H' 'H' 'H' 'H' 'A'\n",
      " 'D']\n",
      "['H' 'A' 'A' 'A' 'D' 'A' 'D' 'H' 'D' 'H' 'H' 'H' 'A' 'D' 'H' 'A' 'H' 'H'\n",
      " 'A']\n",
      "[-1, 1, 1, 1, 1, 0, 0, 1, 1, 1, 1, 1, 1, 1, 1, 1, 1, -1, 0, -1, 1, 1, 1, 0, 1, 0, -1, 0, -1, -1, -1, 1, 0, -1, 1, -1, -1, 1]\n"
     ]
    }
   ],
   "source": [
    "xArsH1819 = np.array(df_football_1819_Ars_home['FTR'])\n",
    "xArsA1819 = np.array(df_football_1819_Ars_away['FTR'])\n",
    "\n",
    "yArs1819 = []\n",
    "\n",
    "for i in xArsH1819:\n",
    "    if i == 'H':\n",
    "        yArs1819.append(1)\n",
    "    elif i == 'A': \n",
    "        yArs1819.append(-1)\n",
    "    elif i == 'D':\n",
    "        yArs1819.append(0)\n",
    "\n",
    "        \n",
    "for i in xArsA1819:\n",
    "    if i == 'H':\n",
    "        yArs1819.append(-1)\n",
    "    elif i == 'A': \n",
    "        yArs1819.append(1)\n",
    "    elif i == 'D':\n",
    "        yArs1819.append(0)\n",
    "        \n",
    "print(xArsH1819)\n",
    "print(xArsA1819)\n",
    "print(yArs1819)"
   ]
  },
  {
   "cell_type": "code",
   "execution_count": 19,
   "metadata": {},
   "outputs": [
    {
     "name": "stdout",
     "output_type": "stream",
     "text": [
      "['H' 'H' 'H' 'D' 'H' 'H' 'H' 'H' 'H' 'H' 'H' 'D' 'H' 'H' 'H' 'H' 'H' 'H'\n",
      " 'H']\n",
      "['A' 'A' 'A' 'D' 'A' 'D' 'A' 'A' 'A' 'A' 'H' 'A' 'D' 'D' 'D' 'A' 'A' 'A'\n",
      " 'A']\n",
      "[1, 1, 1, 0, 1, 1, 1, 1, 1, 1, 1, 0, 1, 1, 1, 1, 1, 1, 1, 1, 1, 1, 0, 1, 0, 1, 1, 1, 1, -1, 1, 0, 0, 0, 1, 1, 1, 1]\n"
     ]
    }
   ],
   "source": [
    "xLivH1819 = np.array(df_football_1819_Liv_home['FTR'])\n",
    "xLivA1819 = np.array(df_football_1819_Liv_away['FTR'])\n",
    "\n",
    "yLiv1819 = []\n",
    "\n",
    "for i in xLivH1819:\n",
    "    if i == 'H':\n",
    "        yLiv1819.append(1)\n",
    "    elif i == 'A': \n",
    "        yLiv1819.append(-1)\n",
    "    elif i == 'D':\n",
    "        yLiv1819.append(0)\n",
    "\n",
    "        \n",
    "for i in xLivA1819:\n",
    "    if i == 'H':\n",
    "        yLiv1819.append(-1)\n",
    "    elif i == 'A': \n",
    "        yLiv1819.append(1)\n",
    "    elif i == 'D':\n",
    "        yLiv1819.append(0)\n",
    "        \n",
    "print(xLivH1819)\n",
    "print(xLivA1819)\n",
    "print(yLiv1819)"
   ]
  },
  {
   "cell_type": "code",
   "execution_count": 20,
   "metadata": {},
   "outputs": [
    {
     "name": "stdout",
     "output_type": "stream",
     "text": [
      "['D' 'A' 'D' 'A' 'D' 'D' 'D' 'H' 'A' 'A' 'H' 'D' 'A' 'H' 'H' 'A' 'H' 'D'\n",
      " 'D']\n",
      "['H' 'A' 'H' 'H' 'D' 'H' 'H' 'H' 'H' 'A' 'D' 'A' 'D' 'H' 'H' 'A' 'H' 'D'\n",
      " 'H']\n",
      "[0, -1, 0, -1, 0, 0, 0, 1, -1, -1, 1, 0, -1, 1, 1, -1, 1, 0, 0, -1, 1, -1, -1, 0, -1, -1, -1, -1, 1, 0, 1, 0, -1, -1, 1, -1, 0, -1]\n"
     ]
    }
   ],
   "source": [
    "xSouH1819 = np.array(df_football_1819_Sou_home['FTR'])\n",
    "xSouA1819 = np.array(df_football_1819_Sou_away['FTR'])\n",
    "\n",
    "ySou1819 = []\n",
    "\n",
    "for i in xSouH1819:\n",
    "    if i == 'H':\n",
    "        ySou1819.append(1)\n",
    "    elif i == 'A': \n",
    "        ySou1819.append(-1)\n",
    "    elif i == 'D':\n",
    "        ySou1819.append(0)\n",
    "\n",
    "        \n",
    "for i in xSouA1819:\n",
    "    if i == 'H':\n",
    "        ySou1819.append(-1)\n",
    "    elif i == 'A': \n",
    "        ySou1819.append(1)\n",
    "    elif i == 'D':\n",
    "        ySou1819.append(0)\n",
    "        \n",
    "print(xSouH1819)\n",
    "print(xSouA1819)\n",
    "print(ySou1819)"
   ]
  },
  {
   "cell_type": "code",
   "execution_count": 21,
   "metadata": {},
   "outputs": [
    {
     "name": "stdout",
     "output_type": "stream",
     "text": [
      "['D' 'A' 'A' 'A' 'H' 'A' 'H' 'H' 'H' 'A' 'A' 'D' 'H' 'A' 'A' 'H' 'A' 'A'\n",
      " 'A']\n",
      "['H' 'D' 'H' 'H' 'H' 'H' 'H' 'H' 'D' 'A' 'H' 'H' 'A' 'H' 'H' 'H' 'A' 'H'\n",
      " 'A']\n",
      "[0, -1, -1, -1, 1, -1, 1, 1, 1, -1, -1, 0, 1, -1, -1, 1, -1, -1, -1, -1, 0, -1, -1, -1, -1, -1, -1, 0, 1, -1, -1, 1, -1, -1, -1, 1, -1, 1]\n"
     ]
    }
   ],
   "source": [
    "xCarH1819 = np.array(df_football_1819_Car_home['FTR'])\n",
    "xCarA1819 = np.array(df_football_1819_Car_away['FTR'])\n",
    "\n",
    "yCar1819 = []\n",
    "\n",
    "for i in xCarH1819:\n",
    "    if i == 'H':\n",
    "        yCar1819.append(1)\n",
    "    elif i == 'A': \n",
    "        yCar1819.append(-1)\n",
    "    elif i == 'D':\n",
    "        yCar1819.append(0)\n",
    "\n",
    "        \n",
    "for i in xCarA1819:\n",
    "    if i == 'H':\n",
    "        yCar1819.append(-1)\n",
    "    elif i == 'A': \n",
    "        yCar1819.append(1)\n",
    "    elif i == 'D':\n",
    "        yCar1819.append(0)\n",
    "        \n",
    "print(xCarH1819)\n",
    "print(xCarA1819)\n",
    "print(yCar1819)"
   ]
  },
  {
   "cell_type": "code",
   "execution_count": 22,
   "metadata": {},
   "outputs": [
    {
     "name": "stdout",
     "output_type": "stream",
     "text": [
      "['H' 'H' 'H' 'D' 'D' 'H' 'D' 'H' 'H' 'A' 'D' 'H' 'H' 'H' 'D' 'H' 'H' 'D'\n",
      " 'H']\n",
      "['A' 'A' 'D' 'A' 'A' 'H' 'H' 'A' 'A' 'A' 'H' 'H' 'H' 'A' 'H' 'A' 'H' 'D'\n",
      " 'D']\n",
      "[1, 1, 1, 0, 0, 1, 0, 1, 1, -1, 0, 1, 1, 1, 0, 1, 1, 0, 1, 1, 1, 0, 1, 1, -1, -1, 1, 1, 1, -1, -1, -1, 1, -1, 1, -1, 0, 0]\n"
     ]
    }
   ],
   "source": [
    "xCheH1819 = np.array(df_football_1819_Che_home['FTR'])\n",
    "xCheA1819 = np.array(df_football_1819_Che_away['FTR'])\n",
    "\n",
    "yChe1819 = []\n",
    "\n",
    "for i in xCheH1819:\n",
    "    if i == 'H':\n",
    "        yChe1819.append(1)\n",
    "    elif i == 'A': \n",
    "        yChe1819.append(-1)\n",
    "    elif i == 'D':\n",
    "        yChe1819.append(0)\n",
    "\n",
    "        \n",
    "for i in xCheA1819:\n",
    "    if i == 'H':\n",
    "        yChe1819.append(-1)\n",
    "    elif i == 'A': \n",
    "        yChe1819.append(1)\n",
    "    elif i == 'D':\n",
    "        yChe1819.append(0)\n",
    "        \n",
    "print(xCheH1819)\n",
    "print(xCheA1819)\n",
    "print(yChe1819)"
   ]
  },
  {
   "cell_type": "code",
   "execution_count": 23,
   "metadata": {},
   "outputs": [
    {
     "name": "stdout",
     "output_type": "stream",
     "text": [
      "['H' 'D' 'A' 'H' 'H' 'H' 'H' 'D' 'D' 'A' 'A' 'H' 'A' 'A' 'D' 'H' 'H' 'H'\n",
      " 'H']\n",
      "['D' 'D' 'H' 'A' 'H' 'D' 'H' 'H' 'A' 'H' 'H' 'A' 'H' 'A' 'H' 'A' 'H' 'D'\n",
      " 'D']\n",
      "[1, 0, -1, 1, 1, 1, 1, 0, 0, -1, -1, 1, -1, -1, 0, 1, 1, 1, 1, -1, 0, -1, -1, -1, -1, -1, -1, -1, 0, -1, -1, -1, -1, -1, -1, -1, 1, -1]\n"
     ]
    }
   ],
   "source": [
    "xEveH1819 = np.array(df_football_1819_Eve_home['FTR'])\n",
    "xEveA1819 = np.array(df_football_1819_Eve_away['FTR'])\n",
    "\n",
    "yEve1819 = []\n",
    "\n",
    "for i in xEveH1819:\n",
    "    if i == 'H':\n",
    "        yEve1819.append(1)\n",
    "    elif i == 'A': \n",
    "        yEve1819.append(-1)\n",
    "    elif i == 'D':\n",
    "        yEve1819.append(0)\n",
    "\n",
    "        \n",
    "for i in xFulA1819:\n",
    "    if i == 'H':\n",
    "        yEve1819.append(-1)\n",
    "    elif i == 'A': \n",
    "        yEve1819.append(1)\n",
    "    elif i == 'D':\n",
    "        yEve1819.append(0)\n",
    "        \n",
    "print(xEveH1819)\n",
    "print(xEveA1819)\n",
    "print(yEve1819)"
   ]
  },
  {
   "cell_type": "code",
   "execution_count": 24,
   "metadata": {},
   "outputs": [
    {
     "name": "stdout",
     "output_type": "stream",
     "text": [
      "['H' 'A' 'H' 'A' 'D' 'D' 'H' 'A' 'H' 'A' 'A' 'A' 'A' 'H' 'H' 'H' 'A' 'H'\n",
      " 'D']\n",
      "['H' 'A' 'H' 'A' 'H' 'A' 'D' 'D' 'H' 'A' 'A' 'H' 'D' 'H' 'H' 'A' 'A' 'D'\n",
      " 'H']\n",
      "[1, -1, 1, -1, 0, 0, 1, -1, 1, -1, -1, -1, -1, 1, 1, 1, -1, 1, 0, -1, 1, -1, 1, -1, 1, 0, 0, -1, 1, 1, -1, 0, -1, -1, 1, 1, 0, -1]\n"
     ]
    }
   ],
   "source": [
    "xLeiH1819 = np.array(df_football_1819_Lei_home['FTR'])\n",
    "xLeiA1819 = np.array(df_football_1819_Lei_away['FTR'])\n",
    "\n",
    "yLei1819 = []\n",
    "\n",
    "for i in xLeiH1819:\n",
    "    if i == 'H':\n",
    "        yLei1819.append(1)\n",
    "    elif i == 'A': \n",
    "        yLei1819.append(-1)\n",
    "    elif i == 'D':\n",
    "        yLei1819.append(0)\n",
    "\n",
    "        \n",
    "for i in xLeiA1819:\n",
    "    if i == 'H':\n",
    "        yLei1819.append(-1)\n",
    "    elif i == 'A': \n",
    "        yLei1819.append(1)\n",
    "    elif i == 'D':\n",
    "        yLei1819.append(0)\n",
    "        \n",
    "print(xLeiH1819)\n",
    "print(xLeiA1819)\n",
    "print(yLei1819)"
   ]
  },
  {
   "cell_type": "code",
   "execution_count": 25,
   "metadata": {},
   "outputs": [
    {
     "name": "stdout",
     "output_type": "stream",
     "text": [
      "['H' 'A' 'H' 'A' 'H' 'H' 'H' 'H' 'A' 'A' 'H' 'H' 'H' 'D' 'H' 'H' 'H' 'A'\n",
      " 'D']\n",
      "['A' 'A' 'H' 'A' 'A' 'A' 'A' 'A' 'H' 'A' 'A' 'A' 'A' 'H' 'H' 'H' 'H' 'H'\n",
      " 'H']\n",
      "[1, -1, 1, -1, 1, 1, 1, 1, -1, -1, 1, 1, 1, 0, 1, 1, 1, -1, 0, 1, 1, -1, 1, 1, 1, 1, 1, -1, 1, 1, 1, 1, -1, -1, -1, -1, -1, -1]\n"
     ]
    }
   ],
   "source": [
    "xTotH1819 = np.array(df_football_1819_Tot_home['FTR'])\n",
    "xTotA1819 = np.array(df_football_1819_Tot_away['FTR'])\n",
    "\n",
    "yTot1819 = []\n",
    "\n",
    "for i in xTotH1819:\n",
    "    if i == 'H':\n",
    "        yTot1819.append(1)\n",
    "    elif i == 'A': \n",
    "        yTot1819.append(-1)\n",
    "    elif i == 'D':\n",
    "        yTot1819.append(0)\n",
    "\n",
    "        \n",
    "for i in xTotA1819:\n",
    "    if i == 'H':\n",
    "        yTot1819.append(-1)\n",
    "    elif i == 'A': \n",
    "        yTot1819.append(1)\n",
    "    elif i == 'D':\n",
    "        yTot1819.append(0)\n",
    "        \n",
    "print(xTotH1819)\n",
    "print(xTotA1819)\n",
    "print(yTot1819)"
   ]
  },
  {
   "cell_type": "code",
   "execution_count": 26,
   "metadata": {},
   "outputs": [
    {
     "name": "stdout",
     "output_type": "stream",
     "text": [
      "['A' 'H' 'D' 'A' 'A' 'H' 'D' 'A' 'D' 'H' 'A' 'H' 'A' 'A' 'A' 'A' 'H' 'H'\n",
      " 'A']\n",
      "['H' 'D' 'H' 'H' 'H' 'H' 'H' 'H' 'H' 'D' 'H' 'H' 'H' 'H' 'H' 'H' 'H' 'A'\n",
      " 'H']\n",
      "[-1, 1, 0, -1, -1, 1, 0, -1, 0, 1, -1, 1, -1, -1, -1, -1, 1, 1, -1, -1, 0, -1, -1, -1, -1, -1, -1, -1, 0, -1, -1, -1, -1, -1, -1, -1, 1, -1]\n"
     ]
    }
   ],
   "source": [
    "xFulH1819 = np.array(df_football_1819_Ful_home['FTR'])\n",
    "xFulA1819 = np.array(df_football_1819_Ful_away['FTR'])\n",
    "\n",
    "yFul1819 = []\n",
    "\n",
    "for i in xFulH1819:\n",
    "    if i == 'H':\n",
    "        yFul1819.append(1)\n",
    "    elif i == 'A': \n",
    "        yFul1819.append(-1)\n",
    "    elif i == 'D':\n",
    "        yFul1819.append(0)\n",
    "\n",
    "        \n",
    "for i in xFulA1819:\n",
    "    if i == 'H':\n",
    "        yFul1819.append(-1)\n",
    "    elif i == 'A': \n",
    "        yFul1819.append(1)\n",
    "    elif i == 'D':\n",
    "        yFul1819.append(0)\n",
    "        \n",
    "print(xFulH1819)\n",
    "print(xFulA1819)\n",
    "print(yFul1819)"
   ]
  },
  {
   "cell_type": "code",
   "execution_count": 27,
   "metadata": {},
   "outputs": [
    {
     "name": "stdout",
     "output_type": "stream",
     "text": [
      "['A' 'A' 'D' 'H' 'A' 'H' 'A' 'H' 'H' 'A' 'D' 'H' 'D' 'H' 'H' 'H' 'A' 'D'\n",
      " 'H']\n",
      "['H' 'H' 'A' 'H' 'D' 'D' 'A' 'A' 'A' 'H' 'H' 'H' 'D' 'H' 'H' 'H' 'H' 'A'\n",
      " 'A']\n",
      "[-1, -1, 0, 1, -1, 1, -1, 1, 1, -1, 0, 1, 0, 1, 1, 1, -1, 0, 1, -1, -1, 1, -1, 0, 0, 1, 1, 1, -1, -1, -1, 0, -1, -1, -1, -1, 1, 1]\n"
     ]
    }
   ],
   "source": [
    "xWHamH1819 = np.array(df_football_1819_WHam_home['FTR'])\n",
    "xWHamA1819 = np.array(df_football_1819_WHam_away['FTR'])\n",
    "\n",
    "yWHam1819 = []\n",
    "\n",
    "for i in xWHamH1819:\n",
    "    if i == 'H':\n",
    "        yWHam1819.append(1)\n",
    "    elif i == 'A': \n",
    "        yWHam1819.append(-1)\n",
    "    elif i == 'D':\n",
    "        yWHam1819.append(0)\n",
    "\n",
    "        \n",
    "for i in xWHamA1819:\n",
    "    if i == 'H':\n",
    "        yWHam1819.append(-1)\n",
    "    elif i == 'A': \n",
    "        yWHam1819.append(1)\n",
    "    elif i == 'D':\n",
    "        yWHam1819.append(0)\n",
    "        \n",
    "print(xWHamH1819)\n",
    "print(xWHamA1819)\n",
    "print(yWHam1819)"
   ]
  },
  {
   "cell_type": "code",
   "execution_count": 28,
   "metadata": {},
   "outputs": [
    {
     "name": "stdout",
     "output_type": "stream",
     "text": [
      "['H' 'D' 'A' 'H' 'H' 'D' 'H' 'A' 'D' 'H' 'A' 'D' 'A' 'H' 'A' 'A' 'A' 'D'\n",
      " 'A']\n",
      "['H' 'H' 'D' 'H' 'A' 'H' 'H' 'A' 'H' 'H' 'D' 'H' 'H' 'H' 'A' 'H' 'D' 'H'\n",
      " 'D']\n",
      "[1, 0, -1, 1, 1, 0, 1, -1, 0, 1, -1, 0, -1, 1, -1, -1, -1, 0, -1, -1, -1, 0, -1, 1, -1, -1, 1, -1, -1, 0, -1, -1, -1, 1, -1, 0, -1, 0]\n"
     ]
    }
   ],
   "source": [
    "xBtonH1819 = np.array(df_football_1819_Bton_home['FTR'])\n",
    "xBtonA1819 = np.array(df_football_1819_Bton_away['FTR'])\n",
    "\n",
    "yBton1819 = []\n",
    "\n",
    "for i in xBtonH1819:\n",
    "    if i == 'H':\n",
    "        yBton1819.append(1)\n",
    "    elif i == 'A': \n",
    "        yBton1819.append(-1)\n",
    "    elif i == 'D':\n",
    "        yBton1819.append(0)\n",
    "\n",
    "        \n",
    "for i in xBtonA1819:\n",
    "    if i == 'H':\n",
    "        yBton1819.append(-1)\n",
    "    elif i == 'A': \n",
    "        yBton1819.append(1)\n",
    "    elif i == 'D':\n",
    "        yBton1819.append(0)\n",
    "        \n",
    "print(xBtonH1819)\n",
    "print(xBtonA1819)\n",
    "print(yBton1819)"
   ]
  },
  {
   "cell_type": "code",
   "execution_count": 29,
   "metadata": {},
   "outputs": [
    {
     "name": "stdout",
     "output_type": "stream",
     "text": [
      "['A' 'A' 'H' 'D' 'A' 'A' 'A' 'H' 'A' 'H' 'H' 'D' 'H' 'A' 'A' 'H' 'H' 'A'\n",
      " 'A']\n",
      "['D' 'H' 'H' 'A' 'H' 'H' 'D' 'H' 'H' 'H' 'A' 'D' 'D' 'A' 'H' 'H' 'A' 'D'\n",
      " 'H']\n",
      "[-1, -1, 1, 0, -1, -1, -1, 1, -1, 1, 1, 0, 1, -1, -1, 1, 1, -1, -1, 0, 1, 1, -1, 1, 1, 0, 1, 1, 1, -1, 0, 0, -1, 1, 1, -1, 0, 1]\n"
     ]
    }
   ],
   "source": [
    "xBleyH1819 = np.array(df_football_1819_Bley_home['FTR'])\n",
    "xBleyA1819 = np.array(df_football_1819_Bley_away['FTR'])\n",
    "\n",
    "yBley1819 = []\n",
    "\n",
    "for i in xBleyH1819:\n",
    "    if i == 'H':\n",
    "        yBley1819.append(1)\n",
    "    elif i == 'A': \n",
    "        yBley1819.append(-1)\n",
    "    elif i == 'D':\n",
    "        yBley1819.append(0)\n",
    "\n",
    "        \n",
    "for i in xBleyA1819:\n",
    "    if i == 'H':\n",
    "        yBley1819.append(1)\n",
    "    elif i == 'A': \n",
    "        yBley1819.append(-1)\n",
    "    elif i == 'D':\n",
    "        yBley1819.append(0)\n",
    "        \n",
    "print(xBleyH1819)\n",
    "print(xBleyA1819)\n",
    "print(yBley1819)"
   ]
  },
  {
   "cell_type": "code",
   "execution_count": 30,
   "metadata": {},
   "outputs": [
    {
     "name": "stdout",
     "output_type": "stream",
     "text": [
      "['H' 'H' 'H' 'H' 'H' 'H' 'H' 'H' 'H' 'A' 'H' 'H' 'H' 'H' 'H' 'H' 'H' 'H'\n",
      " 'H']\n",
      "['A' 'D' 'A' 'D' 'A' 'A' 'A' 'H' 'H' 'A' 'A' 'H' 'A' 'A' 'A' 'A' 'A' 'A'\n",
      " 'A']\n",
      "[1, 1, 1, 1, 1, 1, 1, 1, 1, -1, 1, 1, 1, 1, 1, 1, 1, 1, 1, -1, 0, -1, 0, -1, -1, -1, 1, 1, -1, -1, 1, -1, -1, -1, -1, -1, -1, -1]\n"
     ]
    }
   ],
   "source": [
    "xManCH1819 = np.array(df_football_1819_ManC_home['FTR'])\n",
    "xManCA1819 = np.array(df_football_1819_ManC_away['FTR'])\n",
    "\n",
    "yManC1819 = []\n",
    "\n",
    "for i in xManCH1819:\n",
    "    if i == 'H':\n",
    "        yManC1819.append(1)\n",
    "    elif i == 'A': \n",
    "        yManC1819.append(-1)\n",
    "    elif i == 'D':\n",
    "        yManC1819.append(0)\n",
    "\n",
    "        \n",
    "for i in xManCA1819:\n",
    "    if i == 'H':\n",
    "        yManC1819.append(1)\n",
    "    elif i == 'A': \n",
    "        yManC1819.append(-1)\n",
    "    elif i == 'D':\n",
    "        yManC1819.append(0)\n",
    "        \n",
    "print(xManCH1819)\n",
    "print(xManCA1819)\n",
    "print(yManC1819)"
   ]
  },
  {
   "cell_type": "code",
   "execution_count": 31,
   "metadata": {},
   "outputs": [
    {
     "name": "stdout",
     "output_type": "stream",
     "text": [
      "['A' 'A' 'D' 'A' 'D' 'A' 'H' 'H' 'D' 'A' 'A' 'H' 'D' 'A' 'A' 'H' 'A' 'D'\n",
      " 'H']\n",
      "['A' 'H' 'A' 'H' 'H' 'H' 'D' 'H' 'H' 'A' 'A' 'H' 'D' 'A' 'A' 'H' 'A' 'A'\n",
      " 'A']\n",
      "[-1, -1, 0, -1, 0, -1, 1, 1, 0, -1, -1, 1, 0, -1, -1, 1, -1, 0, 1, -1, 1, -1, 1, 1, 1, 0, 1, 1, -1, -1, 1, 0, -1, -1, 1, -1, -1, -1]\n"
     ]
    }
   ],
   "source": [
    "xCPH1819 = np.array(df_football_1819_CP_home['FTR'])\n",
    "xCPA1819 = np.array(df_football_1819_CP_away['FTR'])\n",
    "\n",
    "yCP1819 = []\n",
    "\n",
    "for i in xCPH1819:\n",
    "    if i == 'H':\n",
    "        yCP1819.append(1)\n",
    "    elif i == 'A': \n",
    "        yCP1819.append(-1)\n",
    "    elif i == 'D':\n",
    "        yCP1819.append(0)\n",
    "\n",
    "        \n",
    "for i in xCPA1819:\n",
    "    if i == 'H':\n",
    "        yCP1819.append(1)\n",
    "    elif i == 'A': \n",
    "        yCP1819.append(-1)\n",
    "    elif i == 'D':\n",
    "        yCP1819.append(0)\n",
    "        \n",
    "print(xCPH1819)\n",
    "print(xCPA1819)\n",
    "print(yCP1819)"
   ]
  },
  {
   "cell_type": "code",
   "execution_count": 34,
   "metadata": {},
   "outputs": [
    {
     "name": "stdout",
     "output_type": "stream",
     "text": [
      "[1, -1, 0, 1, 1, 0, 0, 1, 1, 1, 1, 0, 0, 1, 1, 1, -1, 0, -1, -1, 1, 1, -1, 0, 1, -1, 0, -1, 1, 1, 1, 1, 1, 1, -1, -1, -1, 0, 1, 0, 1, 1, 0, -1, -1, 1, -1, 1, 0, 1, 1, 0, -1, 0, -1, -1, 1, 1, -1, -1, 1, 1, -1, -1, -1, -1, -1, -1, -1, -1, -1, 1, -1, 1, 0, -1, -1, 1, 0, -1, -1, 1, 0, -1, 0, 1, -1, 1, -1, -1, -1, -1, 1, 1, -1, -1, 0, -1, -1, -1, -1, -1, -1, -1, 0, -1, -1, -1, -1, -1, -1, -1, 1, -1, -1, 0, -1, -1, -1, 1, 0, -1, -1, -1, -1, -1, -1, -1, 1, -1, -1, -1, 0, -1, 0, -1, 0, -1, 1, -1, -1, -1, -1, 0, -1, -1, -1, -1, -1, -1, -1, 0, -1, -1, -1, -1, -1, 1, 1, -1, -1, 0, -1, 1, 1, 1, 1, 1, -1, 1, -1, 0, -1, 0, -1, 0, 1, 0, 1, -1, 0, -1, -1, 0, -1, 0, -1, 1, 0, 1, 1, 1, 1, -1, -1, 1, -1, -1, 1, -1, 0, 0, 1, 1, 1, -1, 0, -1, -1, 1, 0, -1, 1, -1, 0, -1, 0, 1, 0, 1, -1, 0, 1, -1, -1, -1, 1, -1, 0, 0, 1, 1, -1, -1, -1, 1, 1, -1, -1, 1, 1, 0, 1, 1, 0, 1, 1, -1, 1, 0, 1, -1, 0, -1, 1, 0, 1, -1, 1, 0, -1, 0, -1, -1, 1, -1, -1, 1, 1, 1, 1, 0, 0, 1, 1, 1, 1, 1, 1, 1, 1, 1, 1, -1, 0, -1, 1, 1, 1, 0, 1, 0, -1, 0, -1, -1, -1, 1, 0, -1, 1, -1, -1, 1, 1, 1, 1, 0, 1, 1, 1, 1, 1, 1, 1, 0, 1, 1, 1, 1, 1, 1, 1, 1, 1, 1, 0, 1, 0, 1, 1, 1, 1, -1, 1, 0, 0, 0, 1, 1, 1, 1, 0, -1, 0, -1, 0, 0, 0, 1, -1, -1, 1, 0, -1, 1, 1, -1, 1, 0, 0, -1, 1, -1, -1, 0, -1, -1, -1, -1, 1, 0, 1, 0, -1, -1, 1, -1, 0, -1, 0, -1, -1, -1, 1, -1, 1, 1, 1, -1, -1, 0, 1, -1, -1, 1, -1, -1, -1, -1, 0, -1, -1, -1, -1, -1, -1, 0, 1, -1, -1, 1, -1, -1, -1, 1, -1, 1, 1, 1, 1, 0, 0, 1, 0, 1, 1, -1, 0, 1, 1, 1, 0, 1, 1, 0, 1, 1, 1, 0, 1, 1, -1, -1, 1, 1, 1, -1, -1, -1, 1, -1, 1, -1, 0, 0, 1, 0, -1, 1, 1, 1, 1, 0, 0, -1, -1, 1, -1, -1, 0, 1, 1, 1, 1, -1, 0, -1, -1, -1, -1, -1, -1, -1, 0, -1, -1, -1, -1, -1, -1, -1, 1, -1, 1, -1, 1, -1, 0, 0, 1, -1, 1, -1, -1, -1, -1, 1, 1, 1, -1, 1, 0, -1, 1, -1, 1, -1, 1, 0, 0, -1, 1, 1, -1, 0, -1, -1, 1, 1, 0, -1, 1, -1, 1, -1, 1, 1, 1, 1, -1, -1, 1, 1, 1, 0, 1, 1, 1, -1, 0, 1, 1, -1, 1, 1, 1, 1, 1, -1, 1, 1, 1, 1, -1, -1, -1, -1, -1, -1, -1, -1, 0, 1, -1, 1, -1, 1, 1, -1, 0, 1, 0, 1, 1, 1, -1, 0, 1, -1, -1, 1, -1, 0, 0, 1, 1, 1, -1, -1, -1, 0, -1, -1, -1, -1, 1, 1, 1, 0, -1, 1, 1, 0, 1, -1, 0, 1, -1, 0, -1, 1, -1, -1, -1, 0, -1, -1, -1, 0, -1, 1, -1, -1, 1, -1, -1, 0, -1, -1, -1, 1, -1, 0, -1, 0, -1, -1, 1, 0, -1, -1, -1, 1, -1, 1, 1, 0, 1, -1, -1, 1, 1, -1, -1, 0, 1, 1, -1, 1, 1, 0, 1, 1, 1, -1, 0, 0, -1, 1, 1, -1, 0, 1, 1, 1, 1, 1, 1, 1, 1, 1, 1, -1, 1, 1, 1, 1, 1, 1, 1, 1, 1, -1, 0, -1, 0, -1, -1, -1, 1, 1, -1, -1, 1, -1, -1, -1, -1, -1, -1, -1, -1, -1, 0, -1, 0, -1, 1, 1, 0, -1, -1, 1, 0, -1, -1, 1, -1, 0, 1, -1, 1, -1, 1, 1, 1, 0, 1, 1, -1, -1, 1, 0, -1, -1, 1, -1, -1, -1]\n"
     ]
    }
   ],
   "source": [
    "frames1819 = [df_football_1819_Ars_home, df_football_1819_Ars_away]\n",
    "frames1819_1 = [df_football_1819_ManU_home, df_football_1819_ManU_away,\n",
    "           df_football_1819_Bour_home, df_football_1819_Bour_away,\n",
    "           df_football_1819_Ful_home, df_football_1819_Ful_away,\n",
    "           df_football_1819_Hud_home, df_football_1819_Hud_away,\n",
    "           df_football_1819_New_home, df_football_1819_New_away,\n",
    "           df_football_1819_Wat_home, df_football_1819_Wat_away,\n",
    "           df_football_1819_Wol_home, df_football_1819_Wol_away,\n",
    "           df_football_1819_Ars_home, df_football_1819_Ars_away,\n",
    "           df_football_1819_Liv_home, df_football_1819_Liv_away,\n",
    "           df_football_1819_Sou_home, df_football_1819_Sou_away,\n",
    "           df_football_1819_Car_home, df_football_1819_Car_away,\n",
    "           df_football_1819_Che_home, df_football_1819_Che_away,\n",
    "           df_football_1819_Eve_home, df_football_1819_Eve_away,\n",
    "           df_football_1819_Lei_home, df_football_1819_Lei_away,\n",
    "           df_football_1819_Tot_home, df_football_1819_Tot_away,\n",
    "           df_football_1819_WHam_home, df_football_1819_WHam_away,\n",
    "           df_football_1819_Bton_home, df_football_1819_Bton_away,\n",
    "           df_football_1819_Bley_home, df_football_1819_Bley_away,\n",
    "           df_football_1819_ManC_home, df_football_1819_ManC_away,\n",
    "           df_football_1819_CP_home, df_football_1819_CP_away]\n",
    "           \n",
    "df_football_1819_allteams = pd.concat(frames1)\n",
    "df_football_1819_Ars = pd.concat(frames)\n",
    "yTeams1819 = yManU1819 + yBour1819 + yFul1819 + yHud1819 + yNew1819 + yWat1819 + yWol1819 + yArs1819 + yLiv1819 + ySou1819 + yCar1819 + yChe1819 + yEve1819 + yLei1819 + yTot1819 + yWHam1819 + yBton1819 + yBley1819 + yManC1819 + yCP1819\n",
    "print(yTeams1819)"
   ]
  },
  {
   "cell_type": "code",
   "execution_count": null,
   "metadata": {},
   "outputs": [],
   "source": [
    "\n",
    "        "
   ]
  },
  {
   "cell_type": "code",
   "execution_count": 37,
   "metadata": {},
   "outputs": [
    {
     "name": "stdout",
     "output_type": "stream",
     "text": [
      "     FTHG  FTAG  HTHG  HTAG  HS  AS  HST  AST  HC  AC  HR  AR\n",
      "0       2     1     1     0   8  13    6    4   2   5   0   0\n",
      "29      0     3     0     0  23   9    5    5   5   2   0   0\n",
      "57      1     1     1     0  15  11    6    8   5   4   0   0\n",
      "74      3     2     0     2  18  13   10    8  10   6   0   0\n",
      "98      2     1     1     0  14  14   10    6   8   4   0   0\n",
      "..    ...   ...   ...   ...  ..  ..  ...  ...  ..  ..  ..  ..\n",
      "281     1     3     0     1  18  10    4    4   8   5   0   0\n",
      "318     2     0     0     0  26   5   10    1   8   2   0   0\n",
      "322     0     1     0     0  18   3    5    1   9   4   0   0\n",
      "342     2     3     0     1  12  16    5    7   8   3   0   0\n",
      "362     2     3     1     2  18  21    8    7  10   5   0   0\n",
      "\n",
      "[760 rows x 12 columns]\n",
      "[1, -1, 0, 1, 1, 0, 0, 1, 1, 1, 1, 0, 0, 1, 1, 1, -1, 0, -1, -1, 1, 1, -1, 0, 1, -1, 0, -1, 1, 1, 1, 1, 1, 1, -1, -1, -1, 0, 1, 0, 1, 1, 0, -1, -1, 1, -1, 1, 0, 1, 1, 0, -1, 0, -1, -1, 1, 1, -1, -1, 1, 1, -1, -1, -1, -1, -1, -1, -1, -1, -1, 1, -1, 1, 0, -1, -1, 1, 0, -1, -1, 1, 0, -1, 0, 1, -1, 1, -1, -1, -1, -1, 1, 1, -1, -1, 0, -1, -1, -1, -1, -1, -1, -1, 0, -1, -1, -1, -1, -1, -1, -1, 1, -1, -1, 0, -1, -1, -1, 1, 0, -1, -1, -1, -1, -1, -1, -1, 1, -1, -1, -1, 0, -1, 0, -1, 0, -1, 1, -1, -1, -1, -1, 0, -1, -1, -1, -1, -1, -1, -1, 0, -1, -1, -1, -1, -1, 1, 1, -1, -1, 0, -1, 1, 1, 1, 1, 1, -1, 1, -1, 0, -1, 0, -1, 0, 1, 0, 1, -1, 0, -1, -1, 0, -1, 0, -1, 1, 0, 1, 1, 1, 1, -1, -1, 1, -1, -1, 1, -1, 0, 0, 1, 1, 1, -1, 0, -1, -1, 1, 0, -1, 1, -1, 0, -1, 0, 1, 0, 1, -1, 0, 1, -1, -1, -1, 1, -1, 0, 0, 1, 1, -1, -1, -1, 1, 1, -1, -1, 1, 1, 0, 1, 1, 0, 1, 1, -1, 1, 0, 1, -1, 0, -1, 1, 0, 1, -1, 1, 0, -1, 0, -1, -1, 1, -1, -1, 1, 1, 1, 1, 0, 0, 1, 1, 1, 1, 1, 1, 1, 1, 1, 1, -1, 0, -1, 1, 1, 1, 0, 1, 0, -1, 0, -1, -1, -1, 1, 0, -1, 1, -1, -1, 1, 1, 1, 1, 0, 1, 1, 1, 1, 1, 1, 1, 0, 1, 1, 1, 1, 1, 1, 1, 1, 1, 1, 0, 1, 0, 1, 1, 1, 1, -1, 1, 0, 0, 0, 1, 1, 1, 1, 0, -1, 0, -1, 0, 0, 0, 1, -1, -1, 1, 0, -1, 1, 1, -1, 1, 0, 0, -1, 1, -1, -1, 0, -1, -1, -1, -1, 1, 0, 1, 0, -1, -1, 1, -1, 0, -1, 0, -1, -1, -1, 1, -1, 1, 1, 1, -1, -1, 0, 1, -1, -1, 1, -1, -1, -1, -1, 0, -1, -1, -1, -1, -1, -1, 0, 1, -1, -1, 1, -1, -1, -1, 1, -1, 1, 1, 1, 1, 0, 0, 1, 0, 1, 1, -1, 0, 1, 1, 1, 0, 1, 1, 0, 1, 1, 1, 0, 1, 1, -1, -1, 1, 1, 1, -1, -1, -1, 1, -1, 1, -1, 0, 0, 1, 0, -1, 1, 1, 1, 1, 0, 0, -1, -1, 1, -1, -1, 0, 1, 1, 1, 1, -1, 0, -1, -1, -1, -1, -1, -1, -1, 0, -1, -1, -1, -1, -1, -1, -1, 1, -1, 1, -1, 1, -1, 0, 0, 1, -1, 1, -1, -1, -1, -1, 1, 1, 1, -1, 1, 0, -1, 1, -1, 1, -1, 1, 0, 0, -1, 1, 1, -1, 0, -1, -1, 1, 1, 0, -1, 1, -1, 1, -1, 1, 1, 1, 1, -1, -1, 1, 1, 1, 0, 1, 1, 1, -1, 0, 1, 1, -1, 1, 1, 1, 1, 1, -1, 1, 1, 1, 1, -1, -1, -1, -1, -1, -1, -1, -1, 0, 1, -1, 1, -1, 1, 1, -1, 0, 1, 0, 1, 1, 1, -1, 0, 1, -1, -1, 1, -1, 0, 0, 1, 1, 1, -1, -1, -1, 0, -1, -1, -1, -1, 1, 1, 1, 0, -1, 1, 1, 0, 1, -1, 0, 1, -1, 0, -1, 1, -1, -1, -1, 0, -1, -1, -1, 0, -1, 1, -1, -1, 1, -1, -1, 0, -1, -1, -1, 1, -1, 0, -1, 0, -1, -1, 1, 0, -1, -1, -1, 1, -1, 1, 1, 0, 1, -1, -1, 1, 1, -1, -1, 0, 1, 1, -1, 1, 1, 0, 1, 1, 1, -1, 0, 0, -1, 1, 1, -1, 0, 1, 1, 1, 1, 1, 1, 1, 1, 1, 1, -1, 1, 1, 1, 1, 1, 1, 1, 1, 1, -1, 0, -1, 0, -1, -1, -1, 1, 1, -1, -1, 1, -1, -1, -1, -1, -1, -1, -1, -1, -1, 0, -1, 0, -1, 1, 1, 0, -1, -1, 1, 0, -1, -1, 1, -1, 0, 1, -1, 1, -1, 1, 1, 1, 0, 1, 1, -1, -1, 1, 0, -1, -1, 1, -1, -1, -1]\n"
     ]
    }
   ],
   "source": [
    "X1819 = df_football_1819_allteams[['FTHG', 'FTAG', 'HTHG', 'HTAG', 'HS', 'AS', 'HST', 'AST', 'HC', 'AC', 'HR', 'AR']]\n",
    "y1819 = yTeams1819\n",
    "\n",
    "print(X1819)\n",
    "print(y1819)"
   ]
  },
  {
   "cell_type": "code",
   "execution_count": 40,
   "metadata": {},
   "outputs": [
    {
     "data": {
      "text/plain": [
       "0.49122807017543857"
      ]
     },
     "execution_count": 40,
     "metadata": {},
     "output_type": "execute_result"
    }
   ],
   "source": [
    "X1819_12_train,X1819_12_test,y1819_12_train,y1819_12_test = train_test_split(X1819,y1819,test_size=0.25,random_state=0)\n",
    "logistic_regression1819_12 = LogisticRegression(solver='liblinear', random_state=0)\n",
    "logistic_regression1819_12.fit(X1819_12_train,y1819_12_train)\n",
    "y1819_12_pred=logistic_regression1819_12.predict(X1819_12_test)\n",
    "y1819_12_pred1 = logistic_regression1819_12.predict(X1819_12_train)\n",
    "logistic_regression1819_12.score(X1819_12_train, y1819_12_train)"
   ]
  },
  {
   "cell_type": "code",
   "execution_count": 31,
   "metadata": {},
   "outputs": [
    {
     "data": {
      "text/plain": [
       "0.4842105263157895"
      ]
     },
     "execution_count": 31,
     "metadata": {},
     "output_type": "execute_result"
    }
   ],
   "source": [
    "logistic_regression1819_12.score(X1819_test,y1819_12_test)"
   ]
  },
  {
   "cell_type": "code",
   "execution_count": 193,
   "metadata": {},
   "outputs": [],
   "source": []
  },
  {
   "cell_type": "code",
   "execution_count": 68,
   "metadata": {},
   "outputs": [],
   "source": [
    "X1819_10 = df_football_1819_allteams[['FTHG', 'FTAG', 'HS', 'AS', 'HST', 'AST', 'HC', 'AC', 'HR', 'AR']]"
   ]
  },
  {
   "cell_type": "code",
   "execution_count": 73,
   "metadata": {},
   "outputs": [
    {
     "data": {
      "text/plain": [
       "0.49298245614035086"
      ]
     },
     "execution_count": 73,
     "metadata": {},
     "output_type": "execute_result"
    }
   ],
   "source": [
    "X1819_10_train,X1819_10_test,y1819_10_train,y1819_10_test = train_test_split(X1819_10,y1819,test_size=0.25,random_state=0)\n",
    "logistic_regression1819_10 = LogisticRegression(solver='liblinear', random_state=0)\n",
    "logistic_regression1819_10.fit(X1819_10_train,y1819_10_train)\n",
    "y1819_10_pred=logistic_regression1819_10.predict(X1819_10_test)\n",
    "y1819_10_pred1 = logistic_regression1819_10.predict(X1819_10_train)\n",
    "logistic_regression1819_10.score(X1819_10_train, y1819_10_train)"
   ]
  },
  {
   "cell_type": "code",
   "execution_count": 76,
   "metadata": {},
   "outputs": [
    {
     "data": {
      "text/plain": [
       "0.45263157894736844"
      ]
     },
     "execution_count": 76,
     "metadata": {},
     "output_type": "execute_result"
    }
   ],
   "source": [
    "logistic_regression1819_10.score(X1819_10_test,y1819_10_test)"
   ]
  },
  {
   "cell_type": "code",
   "execution_count": 77,
   "metadata": {},
   "outputs": [],
   "source": [
    "X1819_8 = df_football_1819_allteams[['FTHG', 'FTAG', 'HS', 'AS', 'HST', 'AST', 'HC', 'AC']]"
   ]
  },
  {
   "cell_type": "code",
   "execution_count": 78,
   "metadata": {},
   "outputs": [
    {
     "data": {
      "text/plain": [
       "0.4964912280701754"
      ]
     },
     "execution_count": 78,
     "metadata": {},
     "output_type": "execute_result"
    }
   ],
   "source": [
    "X1819_8_train,X1819_8_test,y1819_8_train,y1819_8_test = train_test_split(X1819_8,y1819,test_size=0.25,random_state=0)\n",
    "logistic_regression8 = LogisticRegression(solver='liblinear', random_state=0)\n",
    "logistic_regression8.fit(X1819_8_train,y1819_8_train)\n",
    "y1819_8_pred=logistic_regression8.predict(X1819_8_test)\n",
    "y1819_8_pred1 = logistic_regression8.predict(X1819_8_train)\n",
    "logistic_regression8.score(X1819_8_train, y1819_8_train)"
   ]
  },
  {
   "cell_type": "code",
   "execution_count": 79,
   "metadata": {},
   "outputs": [
    {
     "data": {
      "text/plain": [
       "0.45789473684210524"
      ]
     },
     "execution_count": 79,
     "metadata": {},
     "output_type": "execute_result"
    }
   ],
   "source": [
    "logistic_regression8.score(X1819_8_test,y1819_8_test)"
   ]
  },
  {
   "cell_type": "code",
   "execution_count": 189,
   "metadata": {},
   "outputs": [
    {
     "data": {
      "text/plain": [
       "array([-0.39803138,  0.14419392, -1.0327373 ])"
      ]
     },
     "execution_count": 189,
     "metadata": {},
     "output_type": "execute_result"
    }
   ],
   "source": [
    "logistic_regression.intercept_"
   ]
  },
  {
   "cell_type": "code",
   "execution_count": 190,
   "metadata": {},
   "outputs": [
    {
     "data": {
      "text/plain": [
       "array([[ 7.61236757e-02,  1.93540831e-01, -3.10117378e-02,\n",
       "         2.04735999e-02, -1.43072376e-03,  5.48843574e-03,\n",
       "        -6.81388304e-04, -2.30885779e-02,  8.17052636e-02,\n",
       "         1.39615463e-01],\n",
       "       [-6.24005740e-01, -4.34881874e-01, -3.02128230e-02,\n",
       "        -9.67880419e-02,  4.64510785e-02,  1.27488728e-01,\n",
       "         4.63034379e-02,  4.11988479e-02, -8.10831568e-01,\n",
       "        -1.99929923e-01],\n",
       "       [ 2.36197374e-01,  3.65360430e-02,  3.89690293e-02,\n",
       "         2.80897532e-02, -2.42830386e-02, -8.63041561e-02,\n",
       "        -3.26132715e-02, -6.17439706e-03,  3.40341332e-01,\n",
       "        -1.73625748e-03]])"
      ]
     },
     "execution_count": 190,
     "metadata": {},
     "output_type": "execute_result"
    }
   ],
   "source": [
    "logistic_regression.coef_"
   ]
  },
  {
   "cell_type": "code",
   "execution_count": 191,
   "metadata": {},
   "outputs": [
    {
     "name": "stdout",
     "output_type": "stream",
     "text": [
      "Accuracy:  0.45263157894736844\n"
     ]
    }
   ],
   "source": [
    "print('Accuracy: ',metrics.accuracy_score(y_test, y_pred))\n",
    "plt.show()"
   ]
  },
  {
   "cell_type": "code",
   "execution_count": 192,
   "metadata": {},
   "outputs": [
    {
     "ename": "ValueError",
     "evalue": "X has 8 features per sample; expecting 10",
     "output_type": "error",
     "traceback": [
      "\u001b[0;31m---------------------------------------------------------------------------\u001b[0m",
      "\u001b[0;31mValueError\u001b[0m                                Traceback (most recent call last)",
      "\u001b[0;32m<ipython-input-192-2ac8db32142d>\u001b[0m in \u001b[0;36m<module>\u001b[0;34m\u001b[0m\n\u001b[0;32m----> 1\u001b[0;31m \u001b[0mlogistic_regression\u001b[0m\u001b[0;34m.\u001b[0m\u001b[0mscore\u001b[0m\u001b[0;34m(\u001b[0m\u001b[0mX2_test\u001b[0m\u001b[0;34m,\u001b[0m\u001b[0my2_test\u001b[0m\u001b[0;34m)\u001b[0m\u001b[0;34m\u001b[0m\u001b[0;34m\u001b[0m\u001b[0m\n\u001b[0m",
      "\u001b[0;32m/opt/conda/lib/python3.8/site-packages/sklearn/base.py\u001b[0m in \u001b[0;36mscore\u001b[0;34m(self, X, y, sample_weight)\u001b[0m\n\u001b[1;32m    497\u001b[0m         \"\"\"\n\u001b[1;32m    498\u001b[0m         \u001b[0;32mfrom\u001b[0m \u001b[0;34m.\u001b[0m\u001b[0mmetrics\u001b[0m \u001b[0;32mimport\u001b[0m \u001b[0maccuracy_score\u001b[0m\u001b[0;34m\u001b[0m\u001b[0;34m\u001b[0m\u001b[0m\n\u001b[0;32m--> 499\u001b[0;31m         \u001b[0;32mreturn\u001b[0m \u001b[0maccuracy_score\u001b[0m\u001b[0;34m(\u001b[0m\u001b[0my\u001b[0m\u001b[0;34m,\u001b[0m \u001b[0mself\u001b[0m\u001b[0;34m.\u001b[0m\u001b[0mpredict\u001b[0m\u001b[0;34m(\u001b[0m\u001b[0mX\u001b[0m\u001b[0;34m)\u001b[0m\u001b[0;34m,\u001b[0m \u001b[0msample_weight\u001b[0m\u001b[0;34m=\u001b[0m\u001b[0msample_weight\u001b[0m\u001b[0;34m)\u001b[0m\u001b[0;34m\u001b[0m\u001b[0;34m\u001b[0m\u001b[0m\n\u001b[0m\u001b[1;32m    500\u001b[0m \u001b[0;34m\u001b[0m\u001b[0m\n\u001b[1;32m    501\u001b[0m     \u001b[0;32mdef\u001b[0m \u001b[0m_more_tags\u001b[0m\u001b[0;34m(\u001b[0m\u001b[0mself\u001b[0m\u001b[0;34m)\u001b[0m\u001b[0;34m:\u001b[0m\u001b[0;34m\u001b[0m\u001b[0;34m\u001b[0m\u001b[0m\n",
      "\u001b[0;32m/opt/conda/lib/python3.8/site-packages/sklearn/linear_model/_base.py\u001b[0m in \u001b[0;36mpredict\u001b[0;34m(self, X)\u001b[0m\n\u001b[1;32m    305\u001b[0m             \u001b[0mPredicted\u001b[0m \u001b[0;32mclass\u001b[0m \u001b[0mlabel\u001b[0m \u001b[0mper\u001b[0m \u001b[0msample\u001b[0m\u001b[0;34m.\u001b[0m\u001b[0;34m\u001b[0m\u001b[0;34m\u001b[0m\u001b[0m\n\u001b[1;32m    306\u001b[0m         \"\"\"\n\u001b[0;32m--> 307\u001b[0;31m         \u001b[0mscores\u001b[0m \u001b[0;34m=\u001b[0m \u001b[0mself\u001b[0m\u001b[0;34m.\u001b[0m\u001b[0mdecision_function\u001b[0m\u001b[0;34m(\u001b[0m\u001b[0mX\u001b[0m\u001b[0;34m)\u001b[0m\u001b[0;34m\u001b[0m\u001b[0;34m\u001b[0m\u001b[0m\n\u001b[0m\u001b[1;32m    308\u001b[0m         \u001b[0;32mif\u001b[0m \u001b[0mlen\u001b[0m\u001b[0;34m(\u001b[0m\u001b[0mscores\u001b[0m\u001b[0;34m.\u001b[0m\u001b[0mshape\u001b[0m\u001b[0;34m)\u001b[0m \u001b[0;34m==\u001b[0m \u001b[0;36m1\u001b[0m\u001b[0;34m:\u001b[0m\u001b[0;34m\u001b[0m\u001b[0;34m\u001b[0m\u001b[0m\n\u001b[1;32m    309\u001b[0m             \u001b[0mindices\u001b[0m \u001b[0;34m=\u001b[0m \u001b[0;34m(\u001b[0m\u001b[0mscores\u001b[0m \u001b[0;34m>\u001b[0m \u001b[0;36m0\u001b[0m\u001b[0;34m)\u001b[0m\u001b[0;34m.\u001b[0m\u001b[0mastype\u001b[0m\u001b[0;34m(\u001b[0m\u001b[0mnp\u001b[0m\u001b[0;34m.\u001b[0m\u001b[0mint\u001b[0m\u001b[0;34m)\u001b[0m\u001b[0;34m\u001b[0m\u001b[0;34m\u001b[0m\u001b[0m\n",
      "\u001b[0;32m/opt/conda/lib/python3.8/site-packages/sklearn/linear_model/_base.py\u001b[0m in \u001b[0;36mdecision_function\u001b[0;34m(self, X)\u001b[0m\n\u001b[1;32m    284\u001b[0m         \u001b[0mn_features\u001b[0m \u001b[0;34m=\u001b[0m \u001b[0mself\u001b[0m\u001b[0;34m.\u001b[0m\u001b[0mcoef_\u001b[0m\u001b[0;34m.\u001b[0m\u001b[0mshape\u001b[0m\u001b[0;34m[\u001b[0m\u001b[0;36m1\u001b[0m\u001b[0;34m]\u001b[0m\u001b[0;34m\u001b[0m\u001b[0;34m\u001b[0m\u001b[0m\n\u001b[1;32m    285\u001b[0m         \u001b[0;32mif\u001b[0m \u001b[0mX\u001b[0m\u001b[0;34m.\u001b[0m\u001b[0mshape\u001b[0m\u001b[0;34m[\u001b[0m\u001b[0;36m1\u001b[0m\u001b[0;34m]\u001b[0m \u001b[0;34m!=\u001b[0m \u001b[0mn_features\u001b[0m\u001b[0;34m:\u001b[0m\u001b[0;34m\u001b[0m\u001b[0;34m\u001b[0m\u001b[0m\n\u001b[0;32m--> 286\u001b[0;31m             raise ValueError(\"X has %d features per sample; expecting %d\"\n\u001b[0m\u001b[1;32m    287\u001b[0m                              % (X.shape[1], n_features))\n\u001b[1;32m    288\u001b[0m \u001b[0;34m\u001b[0m\u001b[0m\n",
      "\u001b[0;31mValueError\u001b[0m: X has 8 features per sample; expecting 10"
     ]
    }
   ],
   "source": [
    " logistic_regression.score(X1819_8_test,y1819_8_test)"
   ]
  },
  {
   "cell_type": "code",
   "execution_count": null,
   "metadata": {},
   "outputs": [],
   "source": [
    "logistic_regression.score(X1819_8_train, y_train)"
   ]
  },
  {
   "cell_type": "code",
   "execution_count": null,
   "metadata": {},
   "outputs": [],
   "source": [
    "pred = logistic_regression.predict_proba(X_test)\n",
    "log_loss(y_test, pred)"
   ]
  },
  {
   "cell_type": "code",
   "execution_count": 110,
   "metadata": {},
   "outputs": [
    {
     "name": "stdout",
     "output_type": "stream",
     "text": [
      "              precision    recall  f1-score   support\n",
      "\n",
      "          -1       0.50      0.54      0.52        81\n",
      "           0       0.48      0.26      0.34        38\n",
      "           1       0.47      0.54      0.50        71\n",
      "\n",
      "    accuracy                           0.48       190\n",
      "   macro avg       0.48      0.45      0.45       190\n",
      "weighted avg       0.48      0.48      0.48       190\n",
      "\n"
     ]
    }
   ],
   "source": [
    "print(classification_report(y_test, logistic_regression.predict(X_test)))"
   ]
  },
  {
   "cell_type": "code",
   "execution_count": 111,
   "metadata": {},
   "outputs": [
    {
     "data": {
      "text/plain": [
       "array([[44,  5, 32],\n",
       "       [17, 10, 11],\n",
       "       [27,  6, 38]])"
      ]
     },
     "execution_count": 111,
     "metadata": {},
     "output_type": "execute_result"
    }
   ],
   "source": [
    "confusion_matrix(y_test, logistic_regression.predict(X_test))"
   ]
  },
  {
   "cell_type": "code",
   "execution_count": 112,
   "metadata": {},
   "outputs": [
    {
     "name": "stdout",
     "output_type": "stream",
     "text": [
      "     FTHG  FTAG  HTHG  HTAG  HS  AS  HST  AST  HC  AC  HR  AR\n",
      "141     3     1     3     0   9  18    3    5   4   5   1   0\n",
      "262     3     1     2     1  21   8    7    5  12   0   0   0\n",
      "105     4     2     1     1  22   6   10    3  10   4   0   0\n",
      "40      4     2     3     0  10  14    5    8   4   6   0   1\n",
      "315     2     1     1     1   9  18    2    4   3   5   0   1\n",
      "..    ...   ...   ...   ...  ..  ..  ...  ...  ..  ..  ..  ..\n",
      "164     1     0     0     0  15   4    3    0   8   3   0   0\n",
      "254     1     2     0     2  15   9    6    4   5   0   0   0\n",
      "72      0     1     0     0  11   7    4    2   6   3   0   0\n",
      "69      2     1     1     0  11  10    5    2   3   3   0   0\n",
      "258     6     0     4     0  15  12    9    4   2   2   0   0\n",
      "\n",
      "[190 rows x 12 columns]\n",
      "[ 1  1  1 -1 -1 -1  0  0  0 -1  1  1  1 -1 -1  1  1  0 -1  1 -1  0 -1  1\n",
      "  1  1 -1 -1  1 -1 -1  1  0 -1 -1  1  0  1  1  1  1  1 -1 -1  1  1  1  1\n",
      "  1 -1  1  1  1  1 -1 -1  1  1 -1 -1 -1 -1  1  1 -1 -1  0 -1 -1  1  1  0\n",
      "  1  1  1  1  0 -1 -1 -1  1  1  0 -1 -1  1  1  1  0 -1 -1 -1 -1  1 -1  1\n",
      "  1  1 -1 -1  1  1 -1  1 -1  0 -1 -1  1  1 -1 -1 -1 -1  1 -1 -1 -1 -1  0\n",
      "  1 -1  0  1 -1 -1 -1 -1  1 -1 -1 -1 -1 -1  1 -1 -1  1 -1  1  0 -1  1 -1\n",
      " -1 -1 -1  1  1  1  1  1 -1  1 -1 -1  1  0  1 -1 -1  1 -1 -1 -1  1 -1  1\n",
      " -1 -1 -1  1  0  0 -1  1 -1 -1  1  1 -1  0 -1  1  1  1 -1  0  1  1]\n",
      "[1, 1, 1, 1, 1, -1, 0, -1, 1, -1, -1, -1, 1, 1, -1, -1, 0, 0, -1, 1, -1, -1, -1, -1, 0, 1, -1, -1, -1, 1, -1, 1, 0, -1, 1, -1, 0, -1, 1, 1, 1, 1, -1, -1, 1, 1, 1, 0, 1, -1, -1, -1, -1, 0, 0, -1, -1, 0, -1, 1, -1, -1, -1, 1, 1, -1, -1, -1, 0, 0, -1, 1, 1, -1, -1, 0, 0, 1, 1, 1, -1, 0, 0, 1, -1, -1, 1, -1, -1, 1, -1, 1, 1, 1, -1, 1, 0, -1, -1, 1, 1, -1, 0, 1, 1, 0, 0, 1, -1, 1, -1, 1, 0, 0, 1, -1, 1, -1, 1, 1, 1, -1, 0, 1, -1, -1, 1, 1, 1, 0, 0, 0, 0, -1, 0, 0, -1, 1, 1, -1, -1, -1, -1, -1, -1, -1, 0, -1, 0, 1, 1, -1, -1, 1, -1, -1, -1, 0, -1, 0, -1, -1, 0, -1, -1, 1, 0, -1, 1, 1, 1, 1, 1, 0, -1, 1, -1, 1, 1, -1, 0, 1, 0, -1, 1, 1, -1, 1, 1, -1]\n"
     ]
    }
   ],
   "source": [
    "print(X_test)\n",
    "print(y_pred)\n",
    "print(y_test)"
   ]
  },
  {
   "cell_type": "code",
   "execution_count": 113,
   "metadata": {},
   "outputs": [
    {
     "data": {
      "image/png": "[encoded data removed]",
      "text/plain": [
       "<Figure size 576x576 with 1 Axes>"
      ]
     },
     "metadata": {
      "needs_background": "light"
     },
     "output_type": "display_data"
    }
   ],
   "source": [
    "cm = confusion_matrix(y_pred, logistic_regression.predict(X_test))\n",
    "\n",
    "fig, ax = plt.subplots(figsize=(8, 8))\n",
    "ax.imshow(cm)\n",
    "ax.grid(False)\n",
    "ax.xaxis.set(ticks=(0, 1), ticklabels=('Predicted 0s', 'Predicted 1s'))\n",
    "ax.yaxis.set(ticks=(0, 1), ticklabels=('Actual 0s', 'Actual 1s'))\n",
    "ax.set_ylim(1.5, -0.5)\n",
    "for i in range(2):\n",
    "    for j in range(2):\n",
    "        ax.text(j, i, cm[i, j], ha='center', va='center', color='red')\n",
    "plt.show()"
   ]
  },
  {
   "cell_type": "code",
   "execution_count": 169,
   "metadata": {},
   "outputs": [
    {
     "ename": "AssertionError",
     "evalue": "arrays and names must have the same length",
     "output_type": "error",
     "traceback": [
      "\u001b[0;31m---------------------------------------------------------------------------\u001b[0m",
      "\u001b[0;31mAssertionError\u001b[0m                            Traceback (most recent call last)",
      "\u001b[0;32m<ipython-input-169-be9142eb5fd9>\u001b[0m in \u001b[0;36m<module>\u001b[0;34m\u001b[0m\n\u001b[0;32m----> 1\u001b[0;31m \u001b[0mconfusion_matrix\u001b[0m \u001b[0;34m=\u001b[0m \u001b[0mpd\u001b[0m\u001b[0;34m.\u001b[0m\u001b[0mcrosstab\u001b[0m\u001b[0;34m(\u001b[0m\u001b[0my_test\u001b[0m\u001b[0;34m,\u001b[0m \u001b[0my_pred\u001b[0m\u001b[0;34m,\u001b[0m \u001b[0mrownames\u001b[0m\u001b[0;34m=\u001b[0m\u001b[0;34m[\u001b[0m\u001b[0;34m'Actual'\u001b[0m\u001b[0;34m]\u001b[0m\u001b[0;34m,\u001b[0m \u001b[0mcolnames\u001b[0m\u001b[0;34m=\u001b[0m\u001b[0;34m[\u001b[0m\u001b[0;34m'Predicted'\u001b[0m\u001b[0;34m]\u001b[0m\u001b[0;34m)\u001b[0m\u001b[0;34m\u001b[0m\u001b[0;34m\u001b[0m\u001b[0m\n\u001b[0m\u001b[1;32m      2\u001b[0m \u001b[0msn\u001b[0m\u001b[0;34m.\u001b[0m\u001b[0mheatmap\u001b[0m\u001b[0;34m(\u001b[0m\u001b[0mconfusion_matrix\u001b[0m\u001b[0;34m,\u001b[0m \u001b[0mannot\u001b[0m\u001b[0;34m=\u001b[0m\u001b[0;32mTrue\u001b[0m\u001b[0;34m)\u001b[0m\u001b[0;34m\u001b[0m\u001b[0;34m\u001b[0m\u001b[0m\n",
      "\u001b[0;32m/opt/conda/lib/python3.8/site-packages/pandas/core/reshape/pivot.py\u001b[0m in \u001b[0;36mcrosstab\u001b[0;34m(index, columns, values, rownames, colnames, aggfunc, margins, margins_name, dropna, normalize)\u001b[0m\n\u001b[1;32m    584\u001b[0m     \u001b[0mcolumns\u001b[0m \u001b[0;34m=\u001b[0m \u001b[0mcom\u001b[0m\u001b[0;34m.\u001b[0m\u001b[0mmaybe_make_list\u001b[0m\u001b[0;34m(\u001b[0m\u001b[0mcolumns\u001b[0m\u001b[0;34m)\u001b[0m\u001b[0;34m\u001b[0m\u001b[0;34m\u001b[0m\u001b[0m\n\u001b[1;32m    585\u001b[0m \u001b[0;34m\u001b[0m\u001b[0m\n\u001b[0;32m--> 586\u001b[0;31m     \u001b[0mrownames\u001b[0m \u001b[0;34m=\u001b[0m \u001b[0m_get_names\u001b[0m\u001b[0;34m(\u001b[0m\u001b[0mindex\u001b[0m\u001b[0;34m,\u001b[0m \u001b[0mrownames\u001b[0m\u001b[0;34m,\u001b[0m \u001b[0mprefix\u001b[0m\u001b[0;34m=\u001b[0m\u001b[0;34m\"row\"\u001b[0m\u001b[0;34m)\u001b[0m\u001b[0;34m\u001b[0m\u001b[0;34m\u001b[0m\u001b[0m\n\u001b[0m\u001b[1;32m    587\u001b[0m     \u001b[0mcolnames\u001b[0m \u001b[0;34m=\u001b[0m \u001b[0m_get_names\u001b[0m\u001b[0;34m(\u001b[0m\u001b[0mcolumns\u001b[0m\u001b[0;34m,\u001b[0m \u001b[0mcolnames\u001b[0m\u001b[0;34m,\u001b[0m \u001b[0mprefix\u001b[0m\u001b[0;34m=\u001b[0m\u001b[0;34m\"col\"\u001b[0m\u001b[0;34m)\u001b[0m\u001b[0;34m\u001b[0m\u001b[0;34m\u001b[0m\u001b[0m\n\u001b[1;32m    588\u001b[0m \u001b[0;34m\u001b[0m\u001b[0m\n",
      "\u001b[0;32m/opt/conda/lib/python3.8/site-packages/pandas/core/reshape/pivot.py\u001b[0m in \u001b[0;36m_get_names\u001b[0;34m(arrs, names, prefix)\u001b[0m\n\u001b[1;32m    730\u001b[0m     \u001b[0;32melse\u001b[0m\u001b[0;34m:\u001b[0m\u001b[0;34m\u001b[0m\u001b[0;34m\u001b[0m\u001b[0m\n\u001b[1;32m    731\u001b[0m         \u001b[0;32mif\u001b[0m \u001b[0mlen\u001b[0m\u001b[0;34m(\u001b[0m\u001b[0mnames\u001b[0m\u001b[0;34m)\u001b[0m \u001b[0;34m!=\u001b[0m \u001b[0mlen\u001b[0m\u001b[0;34m(\u001b[0m\u001b[0marrs\u001b[0m\u001b[0;34m)\u001b[0m\u001b[0;34m:\u001b[0m\u001b[0;34m\u001b[0m\u001b[0;34m\u001b[0m\u001b[0m\n\u001b[0;32m--> 732\u001b[0;31m             \u001b[0;32mraise\u001b[0m \u001b[0mAssertionError\u001b[0m\u001b[0;34m(\u001b[0m\u001b[0;34m\"arrays and names must have the same length\"\u001b[0m\u001b[0;34m)\u001b[0m\u001b[0;34m\u001b[0m\u001b[0;34m\u001b[0m\u001b[0m\n\u001b[0m\u001b[1;32m    733\u001b[0m         \u001b[0;32mif\u001b[0m \u001b[0;32mnot\u001b[0m \u001b[0misinstance\u001b[0m\u001b[0;34m(\u001b[0m\u001b[0mnames\u001b[0m\u001b[0;34m,\u001b[0m \u001b[0mlist\u001b[0m\u001b[0;34m)\u001b[0m\u001b[0;34m:\u001b[0m\u001b[0;34m\u001b[0m\u001b[0;34m\u001b[0m\u001b[0m\n\u001b[1;32m    734\u001b[0m             \u001b[0mnames\u001b[0m \u001b[0;34m=\u001b[0m \u001b[0mlist\u001b[0m\u001b[0;34m(\u001b[0m\u001b[0mnames\u001b[0m\u001b[0;34m)\u001b[0m\u001b[0;34m\u001b[0m\u001b[0;34m\u001b[0m\u001b[0m\n",
      "\u001b[0;31mAssertionError\u001b[0m: arrays and names must have the same length"
     ]
    }
   ],
   "source": []
  },
  {
   "cell_type": "code",
   "execution_count": 119,
   "metadata": {},
   "outputs": [
    {
     "ename": "NameError",
     "evalue": "name 'df_football_1819' is not defined",
     "output_type": "error",
     "traceback": [
      "\u001b[0;31m---------------------------------------------------------------------------\u001b[0m",
      "\u001b[0;31mNameError\u001b[0m                                 Traceback (most recent call last)",
      "\u001b[0;32m<ipython-input-119-2132f9065a0f>\u001b[0m in \u001b[0;36m<module>\u001b[0;34m\u001b[0m\n\u001b[1;32m     12\u001b[0m \u001b[0mdf_football_1920\u001b[0m \u001b[0;34m=\u001b[0m \u001b[0mdf_football_1920\u001b[0m\u001b[0;34m.\u001b[0m\u001b[0mfilter\u001b[0m\u001b[0;34m(\u001b[0m\u001b[0mitems\u001b[0m \u001b[0;34m=\u001b[0m \u001b[0;34m[\u001b[0m\u001b[0;34m'HomeTeam'\u001b[0m\u001b[0;34m,\u001b[0m \u001b[0;34m'AwayTeam'\u001b[0m\u001b[0;34m,\u001b[0m \u001b[0;34m'FTHG'\u001b[0m\u001b[0;34m,\u001b[0m \u001b[0;34m'FTAG'\u001b[0m\u001b[0;34m,\u001b[0m \u001b[0;34m'FTR'\u001b[0m\u001b[0;34m,\u001b[0m \u001b[0;34m'HTHG'\u001b[0m\u001b[0;34m,\u001b[0m \u001b[0;34m'HTAG'\u001b[0m\u001b[0;34m,\u001b[0m \u001b[0;34m'HTR'\u001b[0m\u001b[0;34m,\u001b[0m \u001b[0;34m'HS'\u001b[0m\u001b[0;34m,\u001b[0m \u001b[0;34m'AS'\u001b[0m\u001b[0;34m,\u001b[0m \u001b[0;34m'HST'\u001b[0m\u001b[0;34m,\u001b[0m \u001b[0;34m'AST'\u001b[0m\u001b[0;34m,\u001b[0m \u001b[0;34m'HC'\u001b[0m\u001b[0;34m,\u001b[0m \u001b[0;34m'AC'\u001b[0m\u001b[0;34m,\u001b[0m \u001b[0;34m'HR'\u001b[0m\u001b[0;34m,\u001b[0m \u001b[0;34m'AR'\u001b[0m\u001b[0;34m]\u001b[0m\u001b[0;34m)\u001b[0m\u001b[0;34m\u001b[0m\u001b[0;34m\u001b[0m\u001b[0m\n\u001b[1;32m     13\u001b[0m \u001b[0;34m\u001b[0m\u001b[0m\n\u001b[0;32m---> 14\u001b[0;31m \u001b[0mprint\u001b[0m\u001b[0;34m(\u001b[0m\u001b[0mdf_football_1819\u001b[0m\u001b[0;34m)\u001b[0m\u001b[0;34m\u001b[0m\u001b[0;34m\u001b[0m\u001b[0m\n\u001b[0m",
      "\u001b[0;31mNameError\u001b[0m: name 'df_football_1819' is not defined"
     ]
    }
   ],
   "source": [
    "df_football_1920 = pd.read_csv('season-1920.csv')\n",
    "df_football_1920 = df_football_1920.filter(items = ['HomeTeam', 'AwayTeam', 'FTHG', 'FTAG', 'FTR', 'HTHG', 'HTAG', 'HTR', 'HS', 'AS', 'HST', 'AST', 'HC', 'AC', 'HR', 'AR'])"
   ]
  },
  {
   "cell_type": "code",
   "execution_count": 41,
   "metadata": {},
   "outputs": [
    {
     "name": "stdout",
     "output_type": "stream",
     "text": [
      "0            Liverpool\n",
      "1             West Ham\n",
      "2          Bournemouth\n",
      "3              Burnley\n",
      "4       Crystal Palace\n",
      "5              Watford\n",
      "6            Tottenham\n",
      "7            Leicester\n",
      "8            Newcastle\n",
      "9           Man United\n",
      "10             Arsenal\n",
      "11         Aston Villa\n",
      "12            Brighton\n",
      "13             Everton\n",
      "14             Norwich\n",
      "15         Southampton\n",
      "16            Man City\n",
      "17    Sheffield United\n",
      "18             Chelsea\n",
      "19              Wolves\n",
      "Name: HomeTeam, dtype: object\n",
      "['Liverpool' 'West Ham' 'Bournemouth' 'Burnley' 'Crystal Palace' 'Watford'\n",
      " 'Tottenham' 'Leicester' 'Newcastle' 'Man United' 'Arsenal' 'Aston Villa'\n",
      " 'Brighton' 'Everton' 'Norwich' 'Southampton' 'Man City'\n",
      " 'Sheffield United' 'Chelsea' 'Wolves']\n"
     ]
    }
   ],
   "source": [
    "team_names = df_football_1920.drop_duplicates(subset = ['HomeTeam'])['HomeTeam']\n",
    "print(team_names)\n",
    "\n",
    "team_names = np.array(team_names)\n",
    "\n",
    "print(team_names)"
   ]
  },
  {
   "cell_type": "code",
   "execution_count": 42,
   "metadata": {},
   "outputs": [],
   "source": [
    "df_football_1920_ManU_home = df_football_1920.loc[(df_football_1920.HomeTeam == \"Man United\")]\n",
    "df_football_1920_ManU_away = df_football_1920.loc[(df_football_1920.AwayTeam == \"Man United\")]\n",
    "\n",
    "df_football_1920_Bour_home = df_football_1920.loc[(df_football_1920.HomeTeam == \"Bournemouth\")]\n",
    "df_football_1920_Bour_away = df_football_1920.loc[(df_football_1920.AwayTeam == \"Bournemouth\")]\n",
    "\n",
    "df_football_1920_Nor_home = df_football_1920.loc[(df_football_1920.HomeTeam == \"Norwich\")]\n",
    "df_football_1920_Nor_away = df_football_1920.loc[(df_football_1920.AwayTeam == \"Norwich\")]\n",
    "\n",
    "df_football_1920_Ast_home = df_football_1920.loc[(df_football_1920.HomeTeam == \"Aston Villa\")]\n",
    "df_football_1920_Ast_away = df_football_1920.loc[(df_football_1920.AwayTeam == \"Aston Villa\")]\n",
    "\n",
    "df_football_1920_New_home = df_football_1920.loc[(df_football_1920.HomeTeam == \"Newcastle\")]\n",
    "df_football_1920_New_away = df_football_1920.loc[(df_football_1920.AwayTeam == \"Newcastle\")]\n",
    "\n",
    "df_football_1920_Wat_home = df_football_1920.loc[(df_football_1920.HomeTeam == \"Watford\")]\n",
    "df_football_1920_Wat_away = df_football_1920.loc[(df_football_1920.AwayTeam == \"Watford\")]\n",
    "\n",
    "df_football_1920_Wol_home = df_football_1920.loc[(df_football_1920.HomeTeam == \"Wolves\")]\n",
    "df_football_1920_Wol_away = df_football_1920.loc[(df_football_1920.AwayTeam == \"Wolves\")]\n",
    "\n",
    "df_football_1920_Ars_home = df_football_1920.loc[(df_football_1920.HomeTeam == \"Arsenal\")]\n",
    "df_football_1920_Ars_away = df_football_1920.loc[(df_football_1920.AwayTeam == \"Arsenal\")]\n",
    "\n",
    "df_football_1920_Liv_home = df_football_1920.loc[(df_football_1920.HomeTeam == \"Liverpool\")]\n",
    "df_football_1920_Liv_away = df_football_1920.loc[(df_football_1920.AwayTeam == \"Liverpool\")]\n",
    "\n",
    "df_football_1920_Sou_home = df_football_1920.loc[(df_football_1920.HomeTeam == \"Southampton\")]\n",
    "df_football_1920_Sou_away = df_football_1920.loc[(df_football_1920.AwayTeam == \"Southampton\")]\n",
    "\n",
    "df_football_1920_Shef_home = df_football_1920.loc[(df_football_1920.HomeTeam == \"Sheffield United\")]\n",
    "df_football_1920_Shef_away = df_football_1920.loc[(df_football_1920.AwayTeam == \"Sheffield United\")]\n",
    "\n",
    "df_football_1920_Che_home = df_football_1920.loc[(df_football_1920.HomeTeam == \"Chelsea\")]\n",
    "df_football_1920_Che_away = df_football_1920.loc[(df_football_1920.AwayTeam == \"Chelsea\")]\n",
    "\n",
    "df_football_1920_Eve_home = df_football_1920.loc[(df_football_1920.HomeTeam == \"Everton\")]\n",
    "df_football_1920_Eve_away = df_football_1920.loc[(df_football_1920.AwayTeam == \"Everton\")]\n",
    "\n",
    "df_football_1920_Lei_home = df_football_1920.loc[(df_football_1920.HomeTeam == \"Leicester\")]\n",
    "df_football_1920_Lei_away = df_football_1920.loc[(df_football_1920.AwayTeam == \"Leicester\")]\n",
    "\n",
    "df_football_1920_Tot_home = df_football_1920.loc[(df_football_1920.HomeTeam == \"Tottenham\")]\n",
    "df_football_1920_Tot_away = df_football_1920.loc[(df_football_1920.AwayTeam == \"Tottenham\")]\n",
    "\n",
    "df_football_1920_WHam_home = df_football_1920.loc[(df_football_1920.HomeTeam == \"West Ham\")]\n",
    "df_football_1920_WHam_away = df_football_1920.loc[(df_football_1920.AwayTeam == \"West Ham\")]\n",
    "\n",
    "df_football_1920_Bton_home = df_football_1920.loc[(df_football_1920.HomeTeam == \"Brighton\")]\n",
    "df_football_1920_Bton_away = df_football_1920.loc[(df_football_1920.AwayTeam == \"Brighton\")]\n",
    "\n",
    "df_football_1920_Bley_home = df_football_1920.loc[(df_football_1920.HomeTeam == \"Burnley\")]\n",
    "df_football_1920_Bley_away = df_football_1920.loc[(df_football_1920.AwayTeam == \"Burnley\")]\n",
    "\n",
    "df_football_1920_ManC_home = df_football_1920.loc[(df_football_1920.HomeTeam == \"Man City\")]\n",
    "df_football_1920_ManC_away = df_football_1920.loc[(df_football_1920.AwayTeam == \"Man City\")]\n",
    "\n",
    "df_football_1920_CP_home = df_football_1920.loc[(df_football_1920.HomeTeam == \"Crystal Palace\")]\n",
    "df_football_1920_CP_away = df_football_1920.loc[(df_football_1920.AwayTeam == \"Crystal Palace\")]"
   ]
  },
  {
   "cell_type": "code",
   "execution_count": 43,
   "metadata": {},
   "outputs": [
    {
     "name": "stdout",
     "output_type": "stream",
     "text": [
      "['H' 'A' 'H' 'A' 'A' 'A' 'D' 'A' 'A' 'D' 'D' 'H' 'A' 'H' 'A' 'A' 'A' 'A'\n",
      " 'A']\n",
      "['H' 'H' 'H' 'H' 'D' 'H' 'A' 'H' 'D' 'H' 'H' 'H' 'D' 'H' 'H' 'H' 'H' 'H'\n",
      " 'H']\n"
     ]
    }
   ],
   "source": [
    "xManUH1920 = np.array(df_football_1920_ManU_home['FTR'])\n",
    "xManUA1920 = np.array(df_football_1920_ManU_away['FTR'])\n",
    "\n",
    "xBourH1920 = np.array(df_football_1920_Bour_home['FTR'])\n",
    "xBourA1920 = np.array(df_football_1920_Bour_away['FTR'])\n",
    "\n",
    "xNorH1920 = np.array(df_football_1920_Nor_home['FTR'])\n",
    "xNorA1920 = np.array(df_football_1920_Nor_away['FTR'])\n",
    "\n",
    "xAstH1920 = np.array(df_football_1920_Ast_home['FTR'])\n",
    "xAstA1920 = np.array(df_football_1920_Ast_away['FTR'])\n",
    "\n",
    "xNewH1920 = np.array(df_football_1920_New_home['FTR'])\n",
    "xNewA1920 = np.array(df_football_1920_New_away['FTR'])\n",
    "\n",
    "xWatH1920 = np.array(df_football_1920_Wat_home['FTR'])\n",
    "xWatA1920 = np.array(df_football_1920_Wat_away['FTR'])\n",
    "\n",
    "xWolH1920 = np.array(df_football_1920_Wol_home['FTR'])\n",
    "xWolA1920 = np.array(df_football_1920_Wol_away['FTR'])\n",
    "\n",
    "xArsH1920 = np.array(df_football_1920_Ars_home['FTR'])\n",
    "xArsA1920 = np.array(df_football_1920_Ars_away['FTR'])\n",
    "\n",
    "xLivH1920 = np.array(df_football_1920_Liv_home['FTR'])\n",
    "xLivA1920 = np.array(df_football_1920_Liv_away['FTR'])\n",
    "\n",
    "xSouH1920 = np.array(df_football_1920_Sou_home['FTR'])\n",
    "xSouA1920 = np.array(df_football_1920_Sou_away['FTR'])\n",
    "\n",
    "xShefH1920 = np.array(df_football_1920_Shef_home['FTR'])\n",
    "xShefA1920 = np.array(df_football_1920_Shef_away['FTR'])\n",
    "\n",
    "xCheH1920 = np.array(df_football_1920_Che_home['FTR'])\n",
    "xCheA1920 = np.array(df_football_1920_Che_away['FTR'])\n",
    "\n",
    "xEveH1920 = np.array(df_football_1920_Eve_home['FTR'])\n",
    "xEveA1920 = np.array(df_football_1920_Eve_away['FTR'])\n",
    "\n",
    "xLeiH1920 = np.array(df_football_1920_Lei_home['FTR'])\n",
    "xLeiA1920 = np.array(df_football_1920_Lei_away['FTR'])\n",
    "\n",
    "xTotH1920 = np.array(df_football_1920_Tot_home['FTR'])\n",
    "xTotA1920 = np.array(df_football_1920_Tot_away['FTR'])\n",
    "\n",
    "\n",
    "xWHamH1920 = np.array(df_football_1920_WHam_home['FTR'])\n",
    "xWHamA1920 = np.array(df_football_1920_WHam_away['FTR'])\n",
    "\n",
    "xBtonH1920 = np.array(df_football_1920_Bton_home['FTR'])\n",
    "xBtonA1920 = np.array(df_football_1920_Bton_away['FTR'])\n",
    "\n",
    "xBleyH1920 = np.array(df_football_1920_Bley_home['FTR'])\n",
    "xBleyA1920 = np.array(df_football_1920_Bley_away['FTR'])\n",
    "\n",
    "xManCH1920 = np.array(df_football_1920_ManC_home['FTR'])\n",
    "xManCA1920 = np.array(df_football_1920_ManC_away['FTR'])\n",
    "\n",
    "xCPH1920 = np.array(df_football_1920_CP_home['FTR'])\n",
    "xCPA1920 = np.array(df_football_1920_CP_away['FTR'])\n",
    "\n",
    "print(xNorH1920)\n",
    "print(xNorA1920)"
   ]
  },
  {
   "cell_type": "code",
   "execution_count": null,
   "metadata": {},
   "outputs": [],
   "source": []
  },
  {
   "cell_type": "code",
   "execution_count": 44,
   "metadata": {},
   "outputs": [
    {
     "name": "stdout",
     "output_type": "stream",
     "text": [
      "['H' 'A' 'H' 'D' 'D' 'H' 'D' 'H' 'D' 'H' 'H' 'A' 'D' 'H' 'H' 'H' 'H' 'D'\n",
      " 'D']\n",
      "['D' 'D' 'H' 'H' 'A' 'H' 'D' 'A' 'H' 'A' 'H' 'H' 'A' 'D' 'D' 'A' 'A' 'A'\n",
      " 'A']\n",
      "[1, -1, 1, 0, 0, 1, 0, 1, 0, 1, 1, -1, 0, 1, 1, 1, 1, 0, 0, 0, 0, -1, -1, 1, -1, 0, 1, -1, 1, -1, -1, 1, 0, 0, 1, 1, 1, 1]\n"
     ]
    }
   ],
   "source": [
    "xManUH1920 = np.array(df_football_1920_ManU_home['FTR'])\n",
    "xManUA1920 = np.array(df_football_1920_ManU_away['FTR'])\n",
    "\n",
    "yManU1920 = []\n",
    "\n",
    "for i in xManUH1920:\n",
    "    if i == 'H':\n",
    "        yManU1920.append(1)\n",
    "    elif i == 'A': \n",
    "        yManU1920.append(-1)\n",
    "    elif i == 'D':\n",
    "        yManU1920.append(0)\n",
    "\n",
    "        \n",
    "for i in xManUA1920:\n",
    "    if i == 'H':\n",
    "        yManU1920.append(-1)\n",
    "    elif i == 'A': \n",
    "        yManU1920.append(1)\n",
    "    elif i == 'D':\n",
    "        yManU1920.append(0)\n",
    "        \n",
    "print(xManUH1920)\n",
    "print(xManUA1920)\n",
    "print(yManU1920)\n"
   ]
  },
  {
   "cell_type": "code",
   "execution_count": 45,
   "metadata": {},
   "outputs": [
    {
     "name": "stdout",
     "output_type": "stream",
     "text": [
      "['D' 'A' 'H' 'D' 'D' 'H' 'A' 'A' 'A' 'D' 'A' 'H' 'H' 'D' 'A' 'A' 'D' 'H'\n",
      " 'A']\n",
      "['A' 'H' 'A' 'H' 'D' 'H' 'H' 'H' 'A' 'H' 'H' 'H' 'H' 'H' 'H' 'H' 'H' 'H'\n",
      " 'A']\n",
      "[0, -1, 1, 0, 0, 1, -1, -1, -1, 0, -1, 1, 1, 0, -1, -1, 0, 1, -1, 1, -1, 1, -1, 0, -1, -1, -1, 1, -1, -1, -1, -1, -1, -1, -1, -1, -1, 1]\n"
     ]
    }
   ],
   "source": [
    "xBourH1920 = np.array(df_football_1920_Bour_home['FTR'])\n",
    "xBourA1920 = np.array(df_football_1920_Bour_away['FTR'])\n",
    "\n",
    "yBour1920 = []\n",
    "\n",
    "for i in xBourH1920:\n",
    "    if i == 'H':\n",
    "        yBour1920.append(1)\n",
    "    elif i == 'A': \n",
    "        yBour1920.append(-1)\n",
    "    elif i == 'D':\n",
    "        yBour1920.append(0)\n",
    "\n",
    "        \n",
    "for i in xBourA1920:\n",
    "    if i == 'H':\n",
    "        yBour1920.append(-1)\n",
    "    elif i == 'A': \n",
    "        yBour1920.append(1)\n",
    "    elif i == 'D':\n",
    "        yBour1920.append(0)\n",
    "        \n",
    "print(xBourH1920)\n",
    "print(xBourA1920)\n",
    "print(yBour1920)"
   ]
  },
  {
   "cell_type": "code",
   "execution_count": 46,
   "metadata": {},
   "outputs": [
    {
     "name": "stdout",
     "output_type": "stream",
     "text": [
      "['H' 'A' 'H' 'A' 'A' 'A' 'D' 'A' 'A' 'D' 'D' 'H' 'A' 'H' 'A' 'A' 'A' 'A'\n",
      " 'A']\n",
      "['H' 'H' 'H' 'H' 'D' 'H' 'A' 'H' 'D' 'H' 'H' 'H' 'D' 'H' 'H' 'H' 'H' 'H'\n",
      " 'H']\n",
      "[1, -1, 1, -1, -1, -1, 0, -1, -1, 0, 0, 1, -1, 1, -1, -1, -1, -1, -1, -1, -1, -1, -1, 0, -1, 1, -1, 0, -1, -1, -1, 0, -1, -1, -1, -1, -1, -1]\n"
     ]
    }
   ],
   "source": [
    "xNorH1920 = np.array(df_football_1920_Nor_home['FTR'])\n",
    "xNorA1920 = np.array(df_football_1920_Nor_away['FTR'])\n",
    "\n",
    "yNor1920 = []\n",
    "\n",
    "for i in xNorH1920:\n",
    "    if i == 'H':\n",
    "        yNor1920.append(1)\n",
    "    elif i == 'A': \n",
    "        yNor1920.append(-1)\n",
    "    elif i == 'D':\n",
    "        yNor1920.append(0)\n",
    "\n",
    "        \n",
    "for i in xNorA1920:\n",
    "    if i == 'H':\n",
    "        yNor1920.append(-1)\n",
    "    elif i == 'A': \n",
    "        yNor1920.append(1)\n",
    "    elif i == 'D':\n",
    "        yNor1920.append(0)\n",
    "        \n",
    "print(xNorH1920)\n",
    "print(xNorA1920)\n",
    "print(yNor1920)"
   ]
  },
  {
   "cell_type": "code",
   "execution_count": 47,
   "metadata": {},
   "outputs": [
    {
     "name": "stdout",
     "output_type": "stream",
     "text": [
      "['A' 'H' 'D' 'D' 'H' 'A' 'H' 'A' 'A' 'H' 'A' 'H' 'A' 'D' 'A' 'A' 'A' 'H'\n",
      " 'H']\n",
      "['H' 'H' 'H' 'A' 'H' 'H' 'D' 'H' 'H' 'H' 'A' 'D' 'H' 'H' 'H' 'D' 'H' 'D'\n",
      " 'D']\n",
      "[-1, 1, 0, 0, 1, -1, 1, -1, -1, 1, -1, 1, -1, 0, -1, -1, -1, 1, 1, -1, -1, -1, 1, -1, -1, 0, -1, -1, -1, 1, 0, -1, -1, -1, 0, -1, 0, 0]\n"
     ]
    }
   ],
   "source": [
    "xAstH1920 = np.array(df_football_1920_Ast_home['FTR'])\n",
    "xAstA1920 = np.array(df_football_1920_Ast_away['FTR'])\n",
    "\n",
    "yAst1920 = []\n",
    "\n",
    "for i in xAstH1920:\n",
    "    if i == 'H':\n",
    "        yAst1920.append(1)\n",
    "    elif i == 'A': \n",
    "        yAst1920.append(-1)\n",
    "    elif i == 'D':\n",
    "        yAst1920.append(0)\n",
    "\n",
    "        \n",
    "for i in xAstA1920:\n",
    "    if i == 'H':\n",
    "        yAst1920.append(-1)\n",
    "    elif i == 'A': \n",
    "        yAst1920.append(1)\n",
    "    elif i == 'D':\n",
    "        yAst1920.append(0)\n",
    "        \n",
    "print(xAstH1920)\n",
    "print(xAstA1920)\n",
    "print(yAst1920)"
   ]
  },
  {
   "cell_type": "code",
   "execution_count": 48,
   "metadata": {},
   "outputs": [
    {
     "name": "stdout",
     "output_type": "stream",
     "text": [
      "['A' 'D' 'D' 'H' 'D' 'H' 'D' 'H' 'H' 'A' 'A' 'H' 'D' 'D' 'H' 'D' 'D' 'A'\n",
      " 'A']\n",
      "['H' 'A' 'H' 'H' 'H' 'A' 'H' 'A' 'H' 'H' 'D' 'D' 'H' 'H' 'A' 'A' 'H' 'H'\n",
      " 'D']\n",
      "[-1, 0, 0, 1, 0, 1, 0, 1, 1, -1, -1, 1, 0, 0, 1, 0, 0, -1, -1, -1, 1, -1, -1, -1, 1, -1, 1, -1, -1, 0, 0, -1, -1, 1, 1, -1, -1, 0]\n"
     ]
    }
   ],
   "source": [
    "xNewH1920 = np.array(df_football_1920_New_home['FTR'])\n",
    "xNewA1920 = np.array(df_football_1920_New_away['FTR'])\n",
    "\n",
    "yNew1920 = []\n",
    "\n",
    "for i in xNewH1920:\n",
    "    if i == 'H':\n",
    "        yNew1920.append(1)\n",
    "    elif i == 'A': \n",
    "        yNew1920.append(-1)\n",
    "    elif i == 'D':\n",
    "        yNew1920.append(0)\n",
    "\n",
    "        \n",
    "for i in xNewA1920:\n",
    "    if i == 'H':\n",
    "        yNew1920.append(-1)\n",
    "    elif i == 'A': \n",
    "        yNew1920.append(1)\n",
    "    elif i == 'D':\n",
    "        yNew1920.append(0)\n",
    "        \n",
    "print(xNewH1920)\n",
    "print(xNewA1920)\n",
    "print(yNew1920)"
   ]
  },
  {
   "cell_type": "code",
   "execution_count": 49,
   "metadata": {},
   "outputs": [
    {
     "name": "stdout",
     "output_type": "stream",
     "text": [
      "['A' 'A' 'D' 'D' 'D' 'A' 'A' 'D' 'H' 'H' 'H' 'D' 'A' 'H' 'D' 'A' 'H' 'H'\n",
      " 'A']\n",
      "['H' 'D' 'H' 'H' 'D' 'A' 'H' 'H' 'H' 'D' 'A' 'H' 'D' 'H' 'H' 'H' 'H' 'H'\n",
      " 'H']\n",
      "[-1, -1, 0, 0, 0, -1, -1, 0, 1, 1, 1, 0, -1, 1, 0, -1, 1, 1, -1, -1, 0, -1, -1, 0, 1, -1, -1, -1, 0, 1, -1, 0, -1, -1, -1, -1, -1, -1]\n"
     ]
    }
   ],
   "source": [
    "xWatH1920 = np.array(df_football_1920_Wat_home['FTR'])\n",
    "xWatA1920 = np.array(df_football_1920_Wat_away['FTR'])\n",
    "\n",
    "yWat1920 = []\n",
    "\n",
    "for i in xWatH1920:\n",
    "    if i == 'H':\n",
    "        yWat1920.append(1)\n",
    "    elif i == 'A': \n",
    "        yWat1920.append(-1)\n",
    "    elif i == 'D':\n",
    "        yWat1920.append(0)\n",
    "\n",
    "        \n",
    "for i in xWatA1920:\n",
    "    if i == 'H':\n",
    "        yWat1920.append(-1)\n",
    "    elif i == 'A': \n",
    "        yWat1920.append(1)\n",
    "    elif i == 'D':\n",
    "        yWat1920.append(0)\n",
    "        \n",
    "print(xWatH1920)\n",
    "print(xWatA1920)\n",
    "print(yWat1920)"
   ]
  },
  {
   "cell_type": "code",
   "execution_count": 50,
   "metadata": {},
   "outputs": [
    {
     "name": "stdout",
     "output_type": "stream",
     "text": [
      "['D' 'D' 'A' 'H' 'D' 'H' 'D' 'H' 'A' 'H' 'D' 'A' 'D' 'H' 'D' 'H' 'A' 'H'\n",
      " 'H']\n",
      "['D' 'H' 'D' 'A' 'D' 'D' 'A' 'D' 'A' 'H' 'H' 'A' 'D' 'A' 'A' 'A' 'H' 'D'\n",
      " 'H']\n",
      "[0, 0, -1, 1, 0, 1, 0, 1, -1, 1, 0, -1, 0, 1, 0, 1, -1, 1, 1, 0, -1, 0, 1, 0, 0, 1, 0, 1, -1, -1, 1, 0, 1, 1, 1, -1, 0, -1]\n"
     ]
    }
   ],
   "source": [
    "xWolH1920 = np.array(df_football_1920_Wol_home['FTR'])\n",
    "xWolA1920 = np.array(df_football_1920_Wol_away['FTR'])\n",
    "\n",
    "yWol1920 = []\n",
    "\n",
    "for i in xWolH1920:\n",
    "    if i == 'H':\n",
    "        yWol1920.append(1)\n",
    "    elif i == 'A': \n",
    "        yWol1920.append(-1)\n",
    "    elif i == 'D':\n",
    "        yWol1920.append(0)\n",
    "\n",
    "        \n",
    "for i in xWolA1920:\n",
    "    if i == 'H':\n",
    "        yWol1920.append(-1)\n",
    "    elif i == 'A': \n",
    "        yWol1920.append(1)\n",
    "    elif i == 'D':\n",
    "        yWol1920.append(0)\n",
    "        \n",
    "print(xWolH1920)\n",
    "print(xWolA1920)\n",
    "print(yWol1920)"
   ]
  },
  {
   "cell_type": "code",
   "execution_count": 51,
   "metadata": {},
   "outputs": [
    {
     "name": "stdout",
     "output_type": "stream",
     "text": [
      "['H' 'D' 'H' 'H' 'D' 'D' 'D' 'A' 'A' 'A' 'H' 'D' 'H' 'H' 'H' 'H' 'D' 'H'\n",
      " 'H']\n",
      "['A' 'H' 'D' 'D' 'H' 'H' 'D' 'A' 'D' 'D' 'D' 'D' 'D' 'H' 'H' 'A' 'A' 'H'\n",
      " 'H']\n",
      "[1, 0, 1, 1, 0, 0, 0, -1, -1, -1, 1, 0, 1, 1, 1, 1, 0, 1, 1, 1, -1, 0, 0, -1, -1, 0, 1, 0, 0, 0, 0, 0, -1, -1, 1, 1, -1, -1]\n"
     ]
    }
   ],
   "source": [
    "xArsH1920 = np.array(df_football_1920_Ars_home['FTR'])\n",
    "xArsA1920 = np.array(df_football_1920_Ars_away['FTR'])\n",
    "\n",
    "yArs1920 = []\n",
    "\n",
    "for i in xArsH1920:\n",
    "    if i == 'H':\n",
    "        yArs1920.append(1)\n",
    "    elif i == 'A': \n",
    "        yArs1920.append(-1)\n",
    "    elif i == 'D':\n",
    "        yArs1920.append(0)\n",
    "\n",
    "        \n",
    "for i in xArsA1920:\n",
    "    if i == 'H':\n",
    "        yArs1920.append(-1)\n",
    "    elif i == 'A': \n",
    "        yArs1920.append(1)\n",
    "    elif i == 'D':\n",
    "        yArs1920.append(0)\n",
    "        \n",
    "print(xArsH1920)\n",
    "print(xArsA1920)\n",
    "print(yArs1920)"
   ]
  },
  {
   "cell_type": "code",
   "execution_count": 52,
   "metadata": {},
   "outputs": [
    {
     "name": "stdout",
     "output_type": "stream",
     "text": [
      "['H' 'H' 'H' 'H' 'H' 'H' 'H' 'H' 'H' 'H' 'H' 'H' 'H' 'H' 'H' 'H' 'H' 'D'\n",
      " 'H']\n",
      "['A' 'A' 'A' 'A' 'D' 'A' 'A' 'A' 'A' 'A' 'A' 'A' 'A' 'H' 'D' 'H' 'A' 'H'\n",
      " 'A']\n",
      "[1, 1, 1, 1, 1, 1, 1, 1, 1, 1, 1, 1, 1, 1, 1, 1, 1, 0, 1, 1, 1, 1, 1, 0, 1, 1, 1, 1, 1, 1, 1, 1, -1, 0, -1, 1, -1, 1]\n"
     ]
    }
   ],
   "source": [
    "xLivH1920 = np.array(df_football_1920_Liv_home['FTR'])\n",
    "xLivA1920 = np.array(df_football_1920_Liv_away['FTR'])\n",
    "\n",
    "yLiv1920 = []\n",
    "\n",
    "for i in xLivH1920:\n",
    "    if i == 'H':\n",
    "        yLiv1920.append(1)\n",
    "    elif i == 'A': \n",
    "        yLiv1920.append(-1)\n",
    "    elif i == 'D':\n",
    "        yLiv1920.append(0)\n",
    "\n",
    "        \n",
    "for i in xLivA1920:\n",
    "    if i == 'H':\n",
    "        yLiv1920.append(-1)\n",
    "    elif i == 'A': \n",
    "        yLiv1920.append(1)\n",
    "    elif i == 'D':\n",
    "        yLiv1920.append(0)\n",
    "        \n",
    "print(xLivH1920)\n",
    "print(xLivA1920)\n",
    "print(yLiv1920)"
   ]
  },
  {
   "cell_type": "code",
   "execution_count": 53,
   "metadata": {},
   "outputs": [
    {
     "name": "stdout",
     "output_type": "stream",
     "text": [
      "['A' 'D' 'A' 'A' 'A' 'A' 'H' 'H' 'A' 'D' 'H' 'A' 'A' 'H' 'A' 'A' 'H' 'D'\n",
      " 'H']\n",
      "['H' 'A' 'A' 'H' 'D' 'H' 'D' 'H' 'A' 'A' 'A' 'A' 'H' 'H' 'A' 'A' 'D' 'D'\n",
      " 'A']\n",
      "[-1, 0, -1, -1, -1, -1, 1, 1, -1, 0, 1, -1, -1, 1, -1, -1, 1, 0, 1, -1, 1, 1, -1, 0, -1, 0, -1, 1, 1, 1, 1, -1, -1, 1, 1, 0, 0, 1]\n"
     ]
    }
   ],
   "source": [
    "xSouH1920 = np.array(df_football_1920_Sou_home['FTR'])\n",
    "xSouA1920 = np.array(df_football_1920_Sou_away['FTR'])\n",
    "\n",
    "ySou1920 = []\n",
    "\n",
    "for i in xSouH1920:\n",
    "    if i == 'H':\n",
    "        ySou1920.append(1)\n",
    "    elif i == 'A': \n",
    "        ySou1920.append(-1)\n",
    "    elif i == 'D':\n",
    "        ySou1920.append(0)\n",
    "\n",
    "        \n",
    "for i in xSouA1920:\n",
    "    if i == 'H':\n",
    "        ySou1920.append(-1)\n",
    "    elif i == 'A': \n",
    "        ySou1920.append(1)\n",
    "    elif i == 'D':\n",
    "        ySou1920.append(0)\n",
    "        \n",
    "print(xSouH1920)\n",
    "print(xSouA1920)\n",
    "print(ySou1920)"
   ]
  },
  {
   "cell_type": "code",
   "execution_count": 54,
   "metadata": {},
   "outputs": [
    {
     "name": "stdout",
     "output_type": "stream",
     "text": [
      "['H' 'A' 'A' 'A' 'H' 'H' 'D' 'A' 'H' 'D' 'H' 'A' 'H' 'D' 'H' 'H' 'H' 'H'\n",
      " 'A']\n",
      "['D' 'D' 'A' 'D' 'D' 'D' 'D' 'A' 'A' 'H' 'H' 'D' 'A' 'D' 'H' 'H' 'D' 'H'\n",
      " 'H']\n",
      "[1, -1, -1, -1, 1, 1, 0, -1, 1, 0, 1, -1, 1, 0, 1, 1, 1, 1, -1, 0, 0, 1, 0, 0, 0, 0, 1, 1, -1, -1, 0, 1, 0, -1, -1, 0, -1, -1]\n"
     ]
    }
   ],
   "source": [
    "xShefH1920 = np.array(df_football_1920_Shef_home['FTR'])\n",
    "xShefA1920 = np.array(df_football_1920_Shef_away['FTR'])\n",
    "\n",
    "yShef1920 = []\n",
    "\n",
    "for i in xShefH1920:\n",
    "    if i == 'H':\n",
    "        yShef1920.append(1)\n",
    "    elif i == 'A': \n",
    "        yShef1920.append(-1)\n",
    "    elif i == 'D':\n",
    "        yShef1920.append(0)\n",
    "\n",
    "        \n",
    "for i in xShefA1920:\n",
    "    if i == 'H':\n",
    "        yShef1920.append(-1)\n",
    "    elif i == 'A': \n",
    "        yShef1920.append(1)\n",
    "    elif i == 'D':\n",
    "        yShef1920.append(0)\n",
    "        \n",
    "print(xShefH1920)\n",
    "print(xShefA1920)\n",
    "print(yShef1920)"
   ]
  },
  {
   "cell_type": "code",
   "execution_count": 55,
   "metadata": {},
   "outputs": [
    {
     "name": "stdout",
     "output_type": "stream",
     "text": [
      "['D' 'D' 'A' 'H' 'H' 'H' 'A' 'H' 'A' 'A' 'H' 'D' 'A' 'H' 'H' 'H' 'H' 'H'\n",
      " 'H']\n",
      "['H' 'A' 'A' 'A' 'A' 'A' 'H' 'H' 'A' 'A' 'D' 'H' 'D' 'D' 'A' 'H' 'A' 'H'\n",
      " 'H']\n",
      "[0, 0, -1, 1, 1, 1, -1, 1, -1, -1, 1, 0, -1, 1, 1, 1, 1, 1, 1, -1, 1, 1, 1, 1, 1, -1, -1, 1, 1, 0, -1, 0, 0, 1, -1, 1, -1, -1]\n"
     ]
    }
   ],
   "source": [
    "xCheH1920 = np.array(df_football_1920_Che_home['FTR'])\n",
    "xCheA1920 = np.array(df_football_1920_Che_away['FTR'])\n",
    "\n",
    "yChe1920 = []\n",
    "\n",
    "for i in xCheH1920:\n",
    "    if i == 'H':\n",
    "        yChe1920.append(1)\n",
    "    elif i == 'A': \n",
    "        yChe1920.append(-1)\n",
    "    elif i == 'D':\n",
    "        yChe1920.append(0)\n",
    "\n",
    "        \n",
    "for i in xCheA1920:\n",
    "    if i == 'H':\n",
    "        yChe1920.append(-1)\n",
    "    elif i == 'A': \n",
    "        yChe1920.append(1)\n",
    "    elif i == 'D':\n",
    "        yChe1920.append(0)\n",
    "        \n",
    "print(xCheH1920)\n",
    "print(xCheA1920)\n",
    "print(yChe1920)"
   ]
  },
  {
   "cell_type": "code",
   "execution_count": 56,
   "metadata": {},
   "outputs": [
    {
     "name": "stdout",
     "output_type": "stream",
     "text": [
      "['H' 'H' 'A' 'A' 'H' 'D' 'A' 'H' 'D' 'H' 'H' 'D' 'H' 'D' 'D' 'H' 'D' 'D'\n",
      " 'A']\n",
      "['D' 'H' 'H' 'H' 'H' 'A' 'H' 'H' 'D' 'A' 'H' 'D' 'A' 'H' 'H' 'A' 'H' 'H'\n",
      " 'A']\n",
      "[1, 1, -1, -1, 1, 0, -1, 1, 0, 1, 1, 0, 1, 0, 0, 1, 0, 0, -1, -1, -1, -1, -1, 0, -1, 1, -1, 0, -1, -1, -1, 0, -1, -1, -1, -1, -1, -1]\n"
     ]
    }
   ],
   "source": [
    "xEveH1920 = np.array(df_football_1920_Eve_home['FTR'])\n",
    "xEveA1920 = np.array(df_football_1920_Eve_away['FTR'])\n",
    "\n",
    "yEve1920 = []\n",
    "\n",
    "for i in xEveH1920:\n",
    "    if i == 'H':\n",
    "        yEve1920.append(1)\n",
    "    elif i == 'A': \n",
    "        yEve1920.append(-1)\n",
    "    elif i == 'D':\n",
    "        yEve1920.append(0)\n",
    "\n",
    "        \n",
    "for i in xNorA1920:\n",
    "    if i == 'H':\n",
    "        yEve1920.append(-1)\n",
    "    elif i == 'A': \n",
    "        yEve1920.append(1)\n",
    "    elif i == 'D':\n",
    "        yEve1920.append(0)\n",
    "        \n",
    "print(xEveH1920)\n",
    "print(xEveA1920)\n",
    "print(yEve1920)"
   ]
  },
  {
   "cell_type": "code",
   "execution_count": 57,
   "metadata": {},
   "outputs": [
    {
     "name": "stdout",
     "output_type": "stream",
     "text": [
      "['D' 'H' 'H' 'H' 'H' 'H' 'H' 'H' 'D' 'A' 'A' 'H' 'D' 'A' 'H' 'D' 'H' 'H'\n",
      " 'A']\n",
      "['D' 'A' 'H' 'H' 'A' 'A' 'A' 'A' 'H' 'A' 'A' 'H' 'D' 'H' 'D' 'H' 'D' 'H'\n",
      " 'H']\n",
      "[0, 1, 1, 1, 1, 1, 1, 1, 0, -1, -1, 1, 0, -1, 1, 0, 1, 1, -1, 0, 1, -1, -1, 1, 1, 1, 1, -1, 1, 1, -1, 0, -1, 0, -1, 0, -1, -1]\n"
     ]
    }
   ],
   "source": [
    "xLeiH1920 = np.array(df_football_1920_Lei_home['FTR'])\n",
    "xLeiA1920 = np.array(df_football_1920_Lei_away['FTR'])\n",
    "\n",
    "yLei1920 = []\n",
    "\n",
    "for i in xLeiH1920:\n",
    "    if i == 'H':\n",
    "        yLei1920.append(1)\n",
    "    elif i == 'A': \n",
    "        yLei1920.append(-1)\n",
    "    elif i == 'D':\n",
    "        yLei1920.append(0)\n",
    "\n",
    "        \n",
    "for i in xLeiA1920:\n",
    "    if i == 'H':\n",
    "        yLei1920.append(-1)\n",
    "    elif i == 'A': \n",
    "        yLei1920.append(1)\n",
    "    elif i == 'D':\n",
    "        yLei1920.append(0)\n",
    "        \n",
    "print(xLeiH1920)\n",
    "print(xLeiA1920)\n",
    "print(yLei1920)"
   ]
  },
  {
   "cell_type": "code",
   "execution_count": 58,
   "metadata": {},
   "outputs": [
    {
     "name": "stdout",
     "output_type": "stream",
     "text": [
      "['H' 'A' 'H' 'H' 'D' 'D' 'H' 'H' 'A' 'H' 'A' 'H' 'H' 'A' 'D' 'H' 'H' 'H'\n",
      " 'H']\n",
      "['D' 'D' 'H' 'H' 'H' 'D' 'A' 'H' 'A' 'D' 'H' 'D' 'A' 'H' 'D' 'H' 'D' 'A'\n",
      " 'D']\n",
      "[1, -1, 1, 1, 0, 0, 1, 1, -1, 1, -1, 1, 1, -1, 0, 1, 1, 1, 1, 0, 0, -1, -1, -1, 0, 1, -1, 1, 0, -1, 0, 1, -1, 0, -1, 0, 1, 0]\n"
     ]
    }
   ],
   "source": [
    "xTotH1920 = np.array(df_football_1920_Tot_home['FTR'])\n",
    "xTotA1920 = np.array(df_football_1920_Tot_away['FTR'])\n",
    "\n",
    "yTot1920 = []\n",
    "\n",
    "for i in xTotH1920:\n",
    "    if i == 'H':\n",
    "        yTot1920.append(1)\n",
    "    elif i == 'A': \n",
    "        yTot1920.append(-1)\n",
    "    elif i == 'D':\n",
    "        yTot1920.append(0)\n",
    "\n",
    "        \n",
    "for i in xTotA1920:\n",
    "    if i == 'H':\n",
    "        yTot1920.append(-1)\n",
    "    elif i == 'A': \n",
    "        yTot1920.append(1)\n",
    "    elif i == 'D':\n",
    "        yTot1920.append(0)\n",
    "        \n",
    "print(xTotH1920)\n",
    "print(xTotA1920)\n",
    "print(yTot1920)"
   ]
  },
  {
   "cell_type": "code",
   "execution_count": 59,
   "metadata": {},
   "outputs": [
    {
     "name": "stdout",
     "output_type": "stream",
     "text": [
      "['H' 'A' 'H' 'A' 'A' 'A' 'D' 'A' 'A' 'D' 'D' 'H' 'A' 'H' 'A' 'A' 'A' 'A'\n",
      " 'A']\n",
      "['H' 'H' 'H' 'H' 'D' 'H' 'A' 'H' 'D' 'H' 'H' 'H' 'D' 'H' 'H' 'H' 'H' 'H'\n",
      " 'H']\n",
      "[1, -1, 1, -1, -1, -1, 0, -1, -1, 0, 0, 1, -1, 1, -1, -1, -1, -1, -1, -1, -1, -1, -1, 0, -1, 1, -1, 0, -1, -1, -1, 0, -1, -1, -1, -1, -1, -1]\n"
     ]
    }
   ],
   "source": [
    "xNorH1920 = np.array(df_football_1920_Nor_home['FTR'])\n",
    "xNorA1920 = np.array(df_football_1920_Nor_away['FTR'])\n",
    "\n",
    "yNor1920 = []\n",
    "\n",
    "for i in xNorH1920:\n",
    "    if i == 'H':\n",
    "        yNor1920.append(1)\n",
    "    elif i == 'A': \n",
    "        yNor1920.append(-1)\n",
    "    elif i == 'D':\n",
    "        yNor1920.append(0)\n",
    "\n",
    "        \n",
    "for i in xNorA1920:\n",
    "    if i == 'H':\n",
    "        yNor1920.append(-1)\n",
    "    elif i == 'A': \n",
    "        yNor1920.append(1)\n",
    "    elif i == 'D':\n",
    "        yNor1920.append(0)\n",
    "        \n",
    "print(xNorH1920)\n",
    "print(xNorA1920)\n",
    "print(yNor1920)"
   ]
  },
  {
   "cell_type": "code",
   "execution_count": 60,
   "metadata": {},
   "outputs": [
    {
     "name": "stdout",
     "output_type": "stream",
     "text": [
      "['A' 'H' 'H' 'A' 'D' 'A' 'A' 'A' 'A' 'H' 'D' 'A' 'D' 'H' 'A' 'H' 'A' 'H'\n",
      " 'D']\n",
      "['D' 'A' 'D' 'D' 'H' 'H' 'A' 'H' 'A' 'H' 'H' 'H' 'H' 'H' 'H' 'H' 'D' 'A'\n",
      " 'D']\n",
      "[-1, 1, 1, -1, 0, -1, -1, -1, -1, 1, 0, -1, 0, 1, -1, 1, -1, 1, 0, 0, 1, 0, 0, -1, -1, 1, -1, 1, -1, -1, -1, -1, -1, -1, -1, 0, 1, 0]\n"
     ]
    }
   ],
   "source": [
    "xWHamH1920 = np.array(df_football_1920_WHam_home['FTR'])\n",
    "xWHamA1920 = np.array(df_football_1920_WHam_away['FTR'])\n",
    "\n",
    "yWHam1920 = []\n",
    "\n",
    "for i in xWHamH1920:\n",
    "    if i == 'H':\n",
    "        yWHam1920.append(1)\n",
    "    elif i == 'A': \n",
    "        yWHam1920.append(-1)\n",
    "    elif i == 'D':\n",
    "        yWHam1920.append(0)\n",
    "\n",
    "        \n",
    "for i in xWHamA1920:\n",
    "    if i == 'H':\n",
    "        yWHam1920.append(-1)\n",
    "    elif i == 'A': \n",
    "        yWHam1920.append(1)\n",
    "    elif i == 'D':\n",
    "        yWHam1920.append(0)\n",
    "        \n",
    "print(xWHamH1920)\n",
    "print(xWHamA1920)\n",
    "print(yWHam1920)"
   ]
  },
  {
   "cell_type": "code",
   "execution_count": 61,
   "metadata": {},
   "outputs": [
    {
     "name": "stdout",
     "output_type": "stream",
     "text": [
      "['D' 'A' 'D' 'H' 'H' 'H' 'A' 'D' 'A' 'H' 'D' 'D' 'D' 'A' 'H' 'A' 'A' 'A'\n",
      " 'D']\n",
      "['A' 'H' 'D' 'H' 'H' 'H' 'H' 'A' 'D' 'H' 'H' 'H' 'D' 'D' 'D' 'D' 'A' 'D'\n",
      " 'A']\n",
      "[0, -1, 0, 1, 1, 1, -1, 0, -1, 1, 0, 0, 0, -1, 1, -1, -1, -1, 0, 1, -1, 0, -1, -1, -1, -1, 1, 0, -1, -1, -1, 0, 0, 0, 0, 1, 0, 1]\n"
     ]
    }
   ],
   "source": [
    "xBtonH1920 = np.array(df_football_1920_Bton_home['FTR'])\n",
    "xBtonA1920 = np.array(df_football_1920_Bton_away['FTR'])\n",
    "\n",
    "yBton1920 = []\n",
    "\n",
    "for i in xBtonH1920:\n",
    "    if i == 'H':\n",
    "        yBton1920.append(1)\n",
    "    elif i == 'A': \n",
    "        yBton1920.append(-1)\n",
    "    elif i == 'D':\n",
    "        yBton1920.append(0)\n",
    "\n",
    "        \n",
    "for i in xBtonA1920:\n",
    "    if i == 'H':\n",
    "        yBton1920.append(-1)\n",
    "    elif i == 'A': \n",
    "        yBton1920.append(1)\n",
    "    elif i == 'D':\n",
    "        yBton1920.append(0)\n",
    "        \n",
    "print(xBtonH1920)\n",
    "print(xBtonA1920)\n",
    "print(yBton1920)"
   ]
  },
  {
   "cell_type": "code",
   "execution_count": 62,
   "metadata": {},
   "outputs": [
    {
     "name": "stdout",
     "output_type": "stream",
     "text": [
      "['H' 'A' 'H' 'H' 'A' 'H' 'A' 'A' 'H' 'A' 'A' 'H' 'D' 'H' 'D' 'H' 'D' 'D'\n",
      " 'A']\n",
      "['H' 'D' 'D' 'D' 'H' 'H' 'A' 'H' 'A' 'H' 'H' 'A' 'A' 'D' 'H' 'A' 'A' 'D'\n",
      " 'A']\n",
      "[1, -1, 1, 1, -1, 1, -1, -1, 1, -1, -1, 1, 0, 1, 0, 1, 0, 0, -1, 1, 0, 0, 0, 1, 1, -1, 1, -1, 1, 1, -1, -1, 0, 1, -1, -1, 0, -1]\n"
     ]
    }
   ],
   "source": [
    "xBleyH1920 = np.array(df_football_1920_Bley_home['FTR'])\n",
    "xBleyA1920 = np.array(df_football_1920_Bley_away['FTR'])\n",
    "\n",
    "yBley1920 = []\n",
    "\n",
    "for i in xBleyH1920:\n",
    "    if i == 'H':\n",
    "        yBley1920.append(1)\n",
    "    elif i == 'A': \n",
    "        yBley1920.append(-1)\n",
    "    elif i == 'D':\n",
    "        yBley1920.append(0)\n",
    "\n",
    "        \n",
    "for i in xBleyA1920:\n",
    "    if i == 'H':\n",
    "        yBley1920.append(1)\n",
    "    elif i == 'A': \n",
    "        yBley1920.append(-1)\n",
    "    elif i == 'D':\n",
    "        yBley1920.append(0)\n",
    "        \n",
    "print(xBleyH1920)\n",
    "print(xBleyA1920)\n",
    "print(yBley1920)"
   ]
  },
  {
   "cell_type": "code",
   "execution_count": 63,
   "metadata": {},
   "outputs": [
    {
     "name": "stdout",
     "output_type": "stream",
     "text": [
      "['D' 'H' 'H' 'A' 'H' 'H' 'H' 'A' 'H' 'H' 'H' 'D' 'H' 'H' 'H' 'H' 'H' 'H'\n",
      " 'H']\n",
      "['A' 'A' 'H' 'A' 'A' 'H' 'D' 'A' 'A' 'H' 'A' 'A' 'H' 'A' 'H' 'H' 'H' 'A'\n",
      " 'A']\n",
      "[0, 1, 1, -1, 1, 1, 1, -1, 1, 1, 1, 0, 1, 1, 1, 1, 1, 1, 1, -1, -1, 1, -1, -1, 1, 0, -1, -1, 1, -1, -1, 1, -1, 1, 1, 1, -1, -1]\n"
     ]
    }
   ],
   "source": [
    "xManCH1920 = np.array(df_football_1920_ManC_home['FTR'])\n",
    "xManCA1920 = np.array(df_football_1920_ManC_away['FTR'])\n",
    "\n",
    "yManC1920 = []\n",
    "\n",
    "for i in xManCH1920:\n",
    "    if i == 'H':\n",
    "        yManC1920.append(1)\n",
    "    elif i == 'A': \n",
    "        yManC1920.append(-1)\n",
    "    elif i == 'D':\n",
    "        yManC1920.append(0)\n",
    "\n",
    "        \n",
    "for i in xManCA1920:\n",
    "    if i == 'H':\n",
    "        yManC1920.append(1)\n",
    "    elif i == 'A': \n",
    "        yManC1920.append(-1)\n",
    "    elif i == 'D':\n",
    "        yManC1920.append(0)\n",
    "        \n",
    "print(xManCH1920)\n",
    "print(xManCA1920)\n",
    "print(yManC1920)"
   ]
  },
  {
   "cell_type": "code",
   "execution_count": 64,
   "metadata": {},
   "outputs": [
    {
     "name": "stdout",
     "output_type": "stream",
     "text": [
      "['D' 'H' 'D' 'H' 'A' 'A' 'A' 'H' 'D' 'H' 'D' 'A' 'A' 'H' 'H' 'A' 'A' 'A'\n",
      " 'D']\n",
      "['H' 'A' 'H' 'A' 'D' 'H' 'A' 'D' 'H' 'D' 'D' 'D' 'H' 'A' 'A' 'H' 'H' 'H'\n",
      " 'H']\n",
      "[0, 1, 0, 1, -1, -1, -1, 1, 0, 1, 0, -1, -1, 1, 1, -1, -1, -1, 0, 1, -1, 1, -1, 0, 1, -1, 0, 1, 0, 0, 0, 1, -1, -1, 1, 1, 1, 1]\n"
     ]
    }
   ],
   "source": [
    "xCPH1920 = np.array(df_football_1920_CP_home['FTR'])\n",
    "xCPA1920 = np.array(df_football_1920_CP_away['FTR'])\n",
    "\n",
    "yCP1920 = []\n",
    "\n",
    "for i in xCPH1920:\n",
    "    if i == 'H':\n",
    "        yCP1920.append(1)\n",
    "    elif i == 'A': \n",
    "        yCP1920.append(-1)\n",
    "    elif i == 'D':\n",
    "        yCP1920.append(0)\n",
    "\n",
    "        \n",
    "for i in xCPA1920:\n",
    "    if i == 'H':\n",
    "        yCP1920.append(1)\n",
    "    elif i == 'A': \n",
    "        yCP1920.append(-1)\n",
    "    elif i == 'D':\n",
    "        yCP1920.append(0)\n",
    "        \n",
    "print(xCPH1920)\n",
    "print(xCPA1920)\n",
    "print(yCP1920)"
   ]
  },
  {
   "cell_type": "code",
   "execution_count": 65,
   "metadata": {},
   "outputs": [
    {
     "name": "stdout",
     "output_type": "stream",
     "text": [
      "[1, -1, 1, 0, 0, 1, 0, 1, 0, 1, 1, -1, 0, 1, 1, 1, 1, 0, 0, 0, 0, -1, -1, 1, -1, 0, 1, -1, 1, -1, -1, 1, 0, 0, 1, 1, 1, 1, 0, -1, 1, 0, 0, 1, -1, -1, -1, 0, -1, 1, 1, 0, -1, -1, 0, 1, -1, 1, -1, 1, -1, 0, -1, -1, -1, 1, -1, -1, -1, -1, -1, -1, -1, -1, -1, 1, 1, -1, 1, -1, -1, -1, 0, -1, -1, 0, 0, 1, -1, 1, -1, -1, -1, -1, -1, -1, -1, -1, -1, 0, -1, 1, -1, 0, -1, -1, -1, 0, -1, -1, -1, -1, -1, -1, -1, 1, 0, 0, 1, -1, 1, -1, -1, 1, -1, 1, -1, 0, -1, -1, -1, 1, 1, -1, -1, -1, 1, -1, -1, 0, -1, -1, -1, 1, 0, -1, -1, -1, 0, -1, 0, 0, -1, 0, 0, 1, 0, 1, 0, 1, 1, -1, -1, 1, 0, 0, 1, 0, 0, -1, -1, -1, 1, -1, -1, -1, 1, -1, 1, -1, -1, 0, 0, -1, -1, 1, 1, -1, -1, 0, -1, -1, 0, 0, 0, -1, -1, 0, 1, 1, 1, 0, -1, 1, 0, -1, 1, 1, -1, -1, 0, -1, -1, 0, 1, -1, -1, -1, 0, 1, -1, 0, -1, -1, -1, -1, -1, -1, 0, 0, -1, 1, 0, 1, 0, 1, -1, 1, 0, -1, 0, 1, 0, 1, -1, 1, 1, 0, -1, 0, 1, 0, 0, 1, 0, 1, -1, -1, 1, 0, 1, 1, 1, -1, 0, -1, 1, 0, 1, 1, 0, 0, 0, -1, -1, -1, 1, 0, 1, 1, 1, 1, 0, 1, 1, 1, -1, 0, 0, -1, -1, 0, 1, 0, 0, 0, 0, 0, -1, -1, 1, 1, -1, -1, 1, 1, 1, 1, 1, 1, 1, 1, 1, 1, 1, 1, 1, 1, 1, 1, 1, 0, 1, 1, 1, 1, 1, 0, 1, 1, 1, 1, 1, 1, 1, 1, -1, 0, -1, 1, -1, 1, -1, 0, -1, -1, -1, -1, 1, 1, -1, 0, 1, -1, -1, 1, -1, -1, 1, 0, 1, -1, 1, 1, -1, 0, -1, 0, -1, 1, 1, 1, 1, -1, -1, 1, 1, 0, 0, 1, 1, -1, -1, -1, 1, 1, 0, -1, 1, 0, 1, -1, 1, 0, 1, 1, 1, 1, -1, 0, 0, 1, 0, 0, 0, 0, 1, 1, -1, -1, 0, 1, 0, -1, -1, 0, -1, -1, 0, 0, -1, 1, 1, 1, -1, 1, -1, -1, 1, 0, -1, 1, 1, 1, 1, 1, 1, -1, 1, 1, 1, 1, 1, -1, -1, 1, 1, 0, -1, 0, 0, 1, -1, 1, -1, -1, 1, 1, -1, -1, 1, 0, -1, 1, 0, 1, 1, 0, 1, 0, 0, 1, 0, 0, -1, -1, -1, -1, -1, 0, -1, 1, -1, 0, -1, -1, -1, 0, -1, -1, -1, -1, -1, -1, 0, 1, 1, 1, 1, 1, 1, 1, 0, -1, -1, 1, 0, -1, 1, 0, 1, 1, -1, 0, 1, -1, -1, 1, 1, 1, 1, -1, 1, 1, -1, 0, -1, 0, -1, 0, -1, -1, 1, -1, 1, 1, 0, 0, 1, 1, -1, 1, -1, 1, 1, -1, 0, 1, 1, 1, 1, 0, 0, -1, -1, -1, 0, 1, -1, 1, 0, -1, 0, 1, -1, 0, -1, 0, 1, 0, -1, 1, 1, -1, 0, -1, -1, -1, -1, 1, 0, -1, 0, 1, -1, 1, -1, 1, 0, 0, 1, 0, 0, -1, -1, 1, -1, 1, -1, -1, -1, -1, -1, -1, -1, 0, 1, 0, 0, -1, 0, 1, 1, 1, -1, 0, -1, 1, 0, 0, 0, -1, 1, -1, -1, -1, 0, 1, -1, 0, -1, -1, -1, -1, 1, 0, -1, -1, -1, 0, 0, 0, 0, 1, 0, 1, 1, -1, 1, 1, -1, 1, -1, -1, 1, -1, -1, 1, 0, 1, 0, 1, 0, 0, -1, 1, 0, 0, 0, 1, 1, -1, 1, -1, 1, 1, -1, -1, 0, 1, -1, -1, 0, -1, 0, 1, 1, -1, 1, 1, 1, -1, 1, 1, 1, 0, 1, 1, 1, 1, 1, 1, 1, -1, -1, 1, -1, -1, 1, 0, -1, -1, 1, -1, -1, 1, -1, 1, 1, 1, -1, -1, 0, 1, 0, 1, -1, -1, -1, 1, 0, 1, 0, -1, -1, 1, 1, -1, -1, -1, 0, 1, -1, 1, -1, 0, 1, -1, 0, 1, 0, 0, 0, 1, -1, -1, 1, 1, 1, 1]\n"
     ]
    }
   ],
   "source": [
    "frames = [df_football_1920_Ars_home, df_football_1920_Ars_away]\n",
    "frames1 = [df_football_1920_ManU_home, df_football_1920_ManU_away,\n",
    "           df_football_1920_Bour_home, df_football_1920_Bour_away,\n",
    "           df_football_1920_Nor_home, df_football_1920_Nor_away,\n",
    "           df_football_1920_Ast_home, df_football_1920_Ast_away,\n",
    "           df_football_1920_New_home, df_football_1920_New_away,\n",
    "           df_football_1920_Wat_home, df_football_1920_Wat_away,\n",
    "           df_football_1920_Wol_home, df_football_1920_Wol_away,\n",
    "           df_football_1920_Ars_home, df_football_1920_Ars_away,\n",
    "           df_football_1920_Liv_home, df_football_1920_Liv_away,\n",
    "           df_football_1920_Sou_home, df_football_1920_Sou_away,\n",
    "           df_football_1920_Shef_home, df_football_1920_Shef_away,\n",
    "           df_football_1920_Che_home, df_football_1920_Che_away,\n",
    "           df_football_1920_Eve_home, df_football_1920_Eve_away,\n",
    "           df_football_1920_Lei_home, df_football_1920_Lei_away,\n",
    "           df_football_1920_Tot_home, df_football_1920_Tot_away,\n",
    "           df_football_1920_WHam_home, df_football_1920_WHam_away,\n",
    "           df_football_1920_Bton_home, df_football_1920_Bton_away,\n",
    "           df_football_1920_Bley_home, df_football_1920_Bley_away,\n",
    "           df_football_1920_ManC_home, df_football_1920_ManC_away,\n",
    "           df_football_1920_CP_home, df_football_1920_CP_away]\n",
    "           \n",
    "df_football_1920_allteams = pd.concat(frames1)\n",
    "df_football_1920_Ars = pd.concat(frames)\n",
    "yTeams1920 = yManU1920 + yBour1920 + yNor1920 + yAst1920 + yNew1920 + yWat1920 + yWol1920 + yArs1920 + yLiv1920 + ySou1920 + yShef1920 + yChe1920 + yEve1920 + yLei1920 + yTot1920 + yWHam1920 + yBton1920 + yBley1920 + yManC1920 + yCP1920\n",
    "print(yTeams1920)\n"
   ]
  },
  {
   "cell_type": "code",
   "execution_count": 66,
   "metadata": {},
   "outputs": [
    {
     "name": "stdout",
     "output_type": "stream",
     "text": [
      "     FTHG  FTAG  HTHG  HTAG  HS  AS  HST  AST  HC  AC  HR  AR\n",
      "9       4     0     1     0  11  18    5    7   3   5   0   0\n",
      "23      1     2     0     1  22   5    3    3   8   1   0   0\n",
      "42      1     0     1     0  10   9    5    3   3   9   0   0\n",
      "69      1     1     1     0  16  10    4    5   8   7   0   0\n",
      "88      1     1     1     0   7  10    2    4   3   1   0   0\n",
      "..    ...   ...   ...   ...  ..  ..  ...  ...  ..  ..  ..  ..\n",
      "295     0     2     0     2  12   7    1    2  11   4   0   0\n",
      "306     4     0     2     0  21   3    7    0   6   0   0   0\n",
      "321     3     0     0     0  15   7    4    1   3   7   0   0\n",
      "346     2     0     1     0  12   9    9    5   5   1   0   1\n",
      "365     2     0     1     0  11   7    5    3   5   2   0   0\n",
      "\n",
      "[760 rows x 12 columns]\n",
      "[1, -1, 1, 0, 0, 1, 0, 1, 0, 1, 1, -1, 0, 1, 1, 1, 1, 0, 0, 0, 0, -1, -1, 1, -1, 0, 1, -1, 1, -1, -1, 1, 0, 0, 1, 1, 1, 1, 0, -1, 1, 0, 0, 1, -1, -1, -1, 0, -1, 1, 1, 0, -1, -1, 0, 1, -1, 1, -1, 1, -1, 0, -1, -1, -1, 1, -1, -1, -1, -1, -1, -1, -1, -1, -1, 1, 1, -1, 1, -1, -1, -1, 0, -1, -1, 0, 0, 1, -1, 1, -1, -1, -1, -1, -1, -1, -1, -1, -1, 0, -1, 1, -1, 0, -1, -1, -1, 0, -1, -1, -1, -1, -1, -1, -1, 1, 0, 0, 1, -1, 1, -1, -1, 1, -1, 1, -1, 0, -1, -1, -1, 1, 1, -1, -1, -1, 1, -1, -1, 0, -1, -1, -1, 1, 0, -1, -1, -1, 0, -1, 0, 0, -1, 0, 0, 1, 0, 1, 0, 1, 1, -1, -1, 1, 0, 0, 1, 0, 0, -1, -1, -1, 1, -1, -1, -1, 1, -1, 1, -1, -1, 0, 0, -1, -1, 1, 1, -1, -1, 0, -1, -1, 0, 0, 0, -1, -1, 0, 1, 1, 1, 0, -1, 1, 0, -1, 1, 1, -1, -1, 0, -1, -1, 0, 1, -1, -1, -1, 0, 1, -1, 0, -1, -1, -1, -1, -1, -1, 0, 0, -1, 1, 0, 1, 0, 1, -1, 1, 0, -1, 0, 1, 0, 1, -1, 1, 1, 0, -1, 0, 1, 0, 0, 1, 0, 1, -1, -1, 1, 0, 1, 1, 1, -1, 0, -1, 1, 0, 1, 1, 0, 0, 0, -1, -1, -1, 1, 0, 1, 1, 1, 1, 0, 1, 1, 1, -1, 0, 0, -1, -1, 0, 1, 0, 0, 0, 0, 0, -1, -1, 1, 1, -1, -1, 1, 1, 1, 1, 1, 1, 1, 1, 1, 1, 1, 1, 1, 1, 1, 1, 1, 0, 1, 1, 1, 1, 1, 0, 1, 1, 1, 1, 1, 1, 1, 1, -1, 0, -1, 1, -1, 1, -1, 0, -1, -1, -1, -1, 1, 1, -1, 0, 1, -1, -1, 1, -1, -1, 1, 0, 1, -1, 1, 1, -1, 0, -1, 0, -1, 1, 1, 1, 1, -1, -1, 1, 1, 0, 0, 1, 1, -1, -1, -1, 1, 1, 0, -1, 1, 0, 1, -1, 1, 0, 1, 1, 1, 1, -1, 0, 0, 1, 0, 0, 0, 0, 1, 1, -1, -1, 0, 1, 0, -1, -1, 0, -1, -1, 0, 0, -1, 1, 1, 1, -1, 1, -1, -1, 1, 0, -1, 1, 1, 1, 1, 1, 1, -1, 1, 1, 1, 1, 1, -1, -1, 1, 1, 0, -1, 0, 0, 1, -1, 1, -1, -1, 1, 1, -1, -1, 1, 0, -1, 1, 0, 1, 1, 0, 1, 0, 0, 1, 0, 0, -1, -1, -1, -1, -1, 0, -1, 1, -1, 0, -1, -1, -1, 0, -1, -1, -1, -1, -1, -1, 0, 1, 1, 1, 1, 1, 1, 1, 0, -1, -1, 1, 0, -1, 1, 0, 1, 1, -1, 0, 1, -1, -1, 1, 1, 1, 1, -1, 1, 1, -1, 0, -1, 0, -1, 0, -1, -1, 1, -1, 1, 1, 0, 0, 1, 1, -1, 1, -1, 1, 1, -1, 0, 1, 1, 1, 1, 0, 0, -1, -1, -1, 0, 1, -1, 1, 0, -1, 0, 1, -1, 0, -1, 0, 1, 0, -1, 1, 1, -1, 0, -1, -1, -1, -1, 1, 0, -1, 0, 1, -1, 1, -1, 1, 0, 0, 1, 0, 0, -1, -1, 1, -1, 1, -1, -1, -1, -1, -1, -1, -1, 0, 1, 0, 0, -1, 0, 1, 1, 1, -1, 0, -1, 1, 0, 0, 0, -1, 1, -1, -1, -1, 0, 1, -1, 0, -1, -1, -1, -1, 1, 0, -1, -1, -1, 0, 0, 0, 0, 1, 0, 1, 1, -1, 1, 1, -1, 1, -1, -1, 1, -1, -1, 1, 0, 1, 0, 1, 0, 0, -1, 1, 0, 0, 0, 1, 1, -1, 1, -1, 1, 1, -1, -1, 0, 1, -1, -1, 0, -1, 0, 1, 1, -1, 1, 1, 1, -1, 1, 1, 1, 0, 1, 1, 1, 1, 1, 1, 1, -1, -1, 1, -1, -1, 1, 0, -1, -1, 1, -1, -1, 1, -1, 1, 1, 1, -1, -1, 0, 1, 0, 1, -1, -1, -1, 1, 0, 1, 0, -1, -1, 1, 1, -1, -1, -1, 0, 1, -1, 1, -1, 0, 1, -1, 0, 1, 0, 0, 0, 1, -1, -1, 1, 1, 1, 1]\n"
     ]
    }
   ],
   "source": [
    "X1920 = df_football_1920_allteams[['FTHG', 'FTAG', 'HTHG', 'HTAG', 'HS', 'AS', 'HST', 'AST', 'HC', 'AC', 'HR', 'AR']]\n",
    "y1920 = yTeams1920\n",
    "\n",
    "print(X1920)\n",
    "print(y1920)"
   ]
  },
  {
   "cell_type": "code",
   "execution_count": 70,
   "metadata": {},
   "outputs": [
    {
     "data": {
      "text/plain": [
       "0.4355263157894737"
      ]
     },
     "execution_count": 70,
     "metadata": {},
     "output_type": "execute_result"
    }
   ],
   "source": [
    "logistic_regression1819_12.score(X1920, y1920)"
   ]
  },
  {
   "cell_type": "code",
   "execution_count": 82,
   "metadata": {},
   "outputs": [
    {
     "data": {
      "text/plain": [
       "0.43026315789473685"
      ]
     },
     "execution_count": 82,
     "metadata": {},
     "output_type": "execute_result"
    }
   ],
   "source": [
    "X1920_10 = df_football_1920_allteams[['FTHG', 'FTAG', 'HS', 'AS', 'HST', 'AST', 'HC', 'AC', 'HR', 'AR']]\n",
    "logistic_regression1819_10.score(X1920_10, y1920)"
   ]
  },
  {
   "cell_type": "code",
   "execution_count": 83,
   "metadata": {},
   "outputs": [
    {
     "data": {
      "text/plain": [
       "0.4328947368421053"
      ]
     },
     "execution_count": 83,
     "metadata": {},
     "output_type": "execute_result"
    }
   ],
   "source": [
    "X1920_8 = df_football_1920_allteams[['FTHG', 'FTAG', 'HS', 'AS', 'HST', 'AST', 'HC', 'AC']]\n",
    "logistic_regression8.score(X1920_8, y1920)"
   ]
  },
  {
   "cell_type": "code",
   "execution_count": null,
   "metadata": {},
   "outputs": [],
   "source": []
  }
 ],
 "metadata": {
  "kernelspec": {
   "display_name": "Python 3",
   "language": "python",
   "name": "python3"
  },
  "language_info": {
   "codemirror_mode": {
    "name": "ipython",
    "version": 3
   },
   "file_extension": ".py",
   "mimetype": "text/x-python",
   "name": "python",
   "nbconvert_exporter": "python",
   "pygments_lexer": "ipython3",
   "version": "3.8.6"
  }
 },
 "nbformat": 4,
 "nbformat_minor": 4
}
